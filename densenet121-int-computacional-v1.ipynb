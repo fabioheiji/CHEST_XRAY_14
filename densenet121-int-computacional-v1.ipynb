{
 "cells": [
  {
   "cell_type": "code",
   "execution_count": 1,
   "metadata": {
    "_cell_guid": "b1076dfc-b9ad-4769-8c92-a6c4dae69d19",
    "_uuid": "8f2839f25d086af736a60e9eeb907d3b93b6e0e5",
    "execution": {
     "iopub.execute_input": "2020-11-29T23:46:02.616997Z",
     "iopub.status.busy": "2020-11-29T23:46:02.616085Z",
     "iopub.status.idle": "2020-11-29T23:46:02.618839Z",
     "shell.execute_reply": "2020-11-29T23:46:02.618345Z"
    },
    "papermill": {
     "duration": 0.037479,
     "end_time": "2020-11-29T23:46:02.618939",
     "exception": false,
     "start_time": "2020-11-29T23:46:02.581460",
     "status": "completed"
    },
    "tags": []
   },
   "outputs": [],
   "source": [
    "# This Python 3 environment comes with many helpful analytics libraries installed\n",
    "# It is defined by the kaggle/python Docker image: https://github.com/kaggle/docker-python\n",
    "# For example, here's several helpful packages to load\n",
    "\n",
    "import numpy as np # linear algebra\n",
    "import pandas as pd # data processing, CSV file I/O (e.g. pd.read_csv)\n",
    "\n",
    "# Input data files are available in the read-only \"../input/\" directory\n",
    "# For example, running this (by clicking run or pressing Shift+Enter) will list all files under the input directory\n",
    "\n",
    "import os\n",
    "# for dirname, _, filenames in os.walk('/kaggle/input'):\n",
    "#     for filename in filenames:\n",
    "#         print(os.path.join(dirname, filename))\n",
    "\n",
    "# You can write up to 20GB to the current directory (/kaggle/working/) that gets preserved as output when you create a version using \"Save & Run All\" \n",
    "# You can also write temporary files to /kaggle/temp/, but they won't be saved outside of the current session"
   ]
  },
  {
   "cell_type": "code",
   "execution_count": 2,
   "metadata": {
    "_cell_guid": "79c7e3d0-c299-4dcb-8224-4455121ee9b0",
    "_uuid": "d629ff2d2480ee46fbb7e2d37f6b5fab8052498a",
    "execution": {
     "iopub.execute_input": "2020-11-29T23:46:02.689312Z",
     "iopub.status.busy": "2020-11-29T23:46:02.688700Z",
     "iopub.status.idle": "2020-11-29T23:46:07.891998Z",
     "shell.execute_reply": "2020-11-29T23:46:07.892665Z"
    },
    "papermill": {
     "duration": 5.244952,
     "end_time": "2020-11-29T23:46:07.892867",
     "exception": false,
     "start_time": "2020-11-29T23:46:02.647915",
     "status": "completed"
    },
    "tags": []
   },
   "outputs": [],
   "source": [
    "import numpy as np # linear algebra\n",
    "import pandas as pd # data processing, CSV file I/O (e.g. pd.read_csv)\n",
    "import os\n",
    "from glob import glob\n",
    "\n",
    "import matplotlib.pyplot as plt\n",
    "%matplotlib inline\n",
    "import re\n",
    "from sklearn.model_selection import train_test_split\n",
    "from keras.preprocessing.image import ImageDataGenerator\n",
    "from keras.callbacks import ModelCheckpoint, LearningRateScheduler, EarlyStopping, ReduceLROnPlateau\n",
    "import datetime\n",
    "import tensorflow as tf\n",
    "from tensorflow import keras\n",
    "from keras.models import Sequential\n",
    "from tensorflow.keras.layers import Input, Flatten, Dense, BatchNormalization, Activation, Dropout, GlobalAveragePooling2D, GlobalMaxPooling2D, Concatenate\n",
    "from sklearn.metrics import roc_curve, auc\n",
    "from sklearn.utils import resample\n",
    "from keras.models import Model, load_model"
   ]
  },
  {
   "cell_type": "code",
   "execution_count": 3,
   "metadata": {
    "execution": {
     "iopub.execute_input": "2020-11-29T23:46:08.006576Z",
     "iopub.status.busy": "2020-11-29T23:46:08.005701Z",
     "iopub.status.idle": "2020-11-29T23:46:08.008328Z",
     "shell.execute_reply": "2020-11-29T23:46:08.009018Z"
    },
    "papermill": {
     "duration": 0.04942,
     "end_time": "2020-11-29T23:46:08.009179",
     "exception": false,
     "start_time": "2020-11-29T23:46:07.959759",
     "status": "completed"
    },
    "tags": []
   },
   "outputs": [],
   "source": [
    "# all_xray_df = pd.read_csv('../input/data/Data_Entry_2017.csv')\n",
    "# all_image_paths = {os.path.basename(x): x for x in \n",
    "#                    glob(os.path.join('..', 'input', 'images*', '*', '*.png'))}\n",
    "# print('Scans found:', len(all_image_paths), ', Total Headers', all_xray_df.shape[0])\n",
    "# all_xray_df['path'] = all_xray_df['Image Index'].map(all_image_paths.get)\n",
    "# all_xray_df['Patient Age'] = all_xray_df['Patient Age'].map(lambda x: int(x[:-1]))\n",
    "# all_xray_df.sample(3)"
   ]
  },
  {
   "cell_type": "code",
   "execution_count": 4,
   "metadata": {
    "execution": {
     "iopub.execute_input": "2020-11-29T23:46:08.098414Z",
     "iopub.status.busy": "2020-11-29T23:46:08.097673Z",
     "iopub.status.idle": "2020-11-29T23:46:08.100107Z",
     "shell.execute_reply": "2020-11-29T23:46:08.100805Z"
    },
    "papermill": {
     "duration": 0.050324,
     "end_time": "2020-11-29T23:46:08.100959",
     "exception": false,
     "start_time": "2020-11-29T23:46:08.050635",
     "status": "completed"
    },
    "tags": []
   },
   "outputs": [],
   "source": [
    "def custom_print(text):\n",
    "    now = datetime.datetime.now()\n",
    "    print('Dia {} - {}:{}:{} - {}'.format(now.day, now.hour-3, now.minute, now.second, text))"
   ]
  },
  {
   "cell_type": "code",
   "execution_count": 5,
   "metadata": {
    "execution": {
     "iopub.execute_input": "2020-11-29T23:46:08.191249Z",
     "iopub.status.busy": "2020-11-29T23:46:08.190663Z",
     "iopub.status.idle": "2020-11-29T23:46:08.758471Z",
     "shell.execute_reply": "2020-11-29T23:46:08.759084Z"
    },
    "papermill": {
     "duration": 0.616684,
     "end_time": "2020-11-29T23:46:08.759261",
     "exception": false,
     "start_time": "2020-11-29T23:46:08.142577",
     "status": "completed"
    },
    "tags": []
   },
   "outputs": [],
   "source": [
    "all_xray_df = pd.read_csv('/kaggle/input/all-xray-df-original/all_xray_df.csv')\n"
   ]
  },
  {
   "cell_type": "code",
   "execution_count": 6,
   "metadata": {
    "execution": {
     "iopub.execute_input": "2020-11-29T23:46:08.860329Z",
     "iopub.status.busy": "2020-11-29T23:46:08.859577Z",
     "iopub.status.idle": "2020-11-29T23:46:08.886058Z",
     "shell.execute_reply": "2020-11-29T23:46:08.886547Z"
    },
    "papermill": {
     "duration": 0.087918,
     "end_time": "2020-11-29T23:46:08.886674",
     "exception": false,
     "start_time": "2020-11-29T23:46:08.798756",
     "status": "completed"
    },
    "tags": []
   },
   "outputs": [
    {
     "data": {
      "text/html": [
       "<div>\n",
       "<style scoped>\n",
       "    .dataframe tbody tr th:only-of-type {\n",
       "        vertical-align: middle;\n",
       "    }\n",
       "\n",
       "    .dataframe tbody tr th {\n",
       "        vertical-align: top;\n",
       "    }\n",
       "\n",
       "    .dataframe thead th {\n",
       "        text-align: right;\n",
       "    }\n",
       "</style>\n",
       "<table border=\"1\" class=\"dataframe\">\n",
       "  <thead>\n",
       "    <tr style=\"text-align: right;\">\n",
       "      <th></th>\n",
       "      <th>Unnamed: 0</th>\n",
       "      <th>Image Index</th>\n",
       "      <th>Finding Labels</th>\n",
       "      <th>Follow-up #</th>\n",
       "      <th>Patient ID</th>\n",
       "      <th>Patient Age</th>\n",
       "      <th>Patient Gender</th>\n",
       "      <th>View Position</th>\n",
       "      <th>OriginalImage[Width</th>\n",
       "      <th>Height]</th>\n",
       "      <th>OriginalImagePixelSpacing[x</th>\n",
       "      <th>y]</th>\n",
       "      <th>path</th>\n",
       "    </tr>\n",
       "  </thead>\n",
       "  <tbody>\n",
       "    <tr>\n",
       "      <th>0</th>\n",
       "      <td>0</td>\n",
       "      <td>00000001_000.png</td>\n",
       "      <td>Cardiomegaly</td>\n",
       "      <td>0</td>\n",
       "      <td>1</td>\n",
       "      <td>57</td>\n",
       "      <td>M</td>\n",
       "      <td>PA</td>\n",
       "      <td>2682</td>\n",
       "      <td>2749</td>\n",
       "      <td>0.143</td>\n",
       "      <td>0.143</td>\n",
       "      <td>/content/drive/My Drive/Colab Notebooks/ChestX...</td>\n",
       "    </tr>\n",
       "    <tr>\n",
       "      <th>1</th>\n",
       "      <td>1</td>\n",
       "      <td>00000001_001.png</td>\n",
       "      <td>Cardiomegaly|Emphysema</td>\n",
       "      <td>1</td>\n",
       "      <td>1</td>\n",
       "      <td>58</td>\n",
       "      <td>M</td>\n",
       "      <td>PA</td>\n",
       "      <td>2894</td>\n",
       "      <td>2729</td>\n",
       "      <td>0.143</td>\n",
       "      <td>0.143</td>\n",
       "      <td>/content/drive/My Drive/Colab Notebooks/ChestX...</td>\n",
       "    </tr>\n",
       "    <tr>\n",
       "      <th>2</th>\n",
       "      <td>2</td>\n",
       "      <td>00000001_002.png</td>\n",
       "      <td>Cardiomegaly|Effusion</td>\n",
       "      <td>2</td>\n",
       "      <td>1</td>\n",
       "      <td>58</td>\n",
       "      <td>M</td>\n",
       "      <td>PA</td>\n",
       "      <td>2500</td>\n",
       "      <td>2048</td>\n",
       "      <td>0.168</td>\n",
       "      <td>0.168</td>\n",
       "      <td>/content/drive/My Drive/Colab Notebooks/ChestX...</td>\n",
       "    </tr>\n",
       "    <tr>\n",
       "      <th>3</th>\n",
       "      <td>3</td>\n",
       "      <td>00000002_000.png</td>\n",
       "      <td>No Finding</td>\n",
       "      <td>0</td>\n",
       "      <td>2</td>\n",
       "      <td>80</td>\n",
       "      <td>M</td>\n",
       "      <td>PA</td>\n",
       "      <td>2500</td>\n",
       "      <td>2048</td>\n",
       "      <td>0.171</td>\n",
       "      <td>0.171</td>\n",
       "      <td>/content/drive/My Drive/Colab Notebooks/ChestX...</td>\n",
       "    </tr>\n",
       "    <tr>\n",
       "      <th>4</th>\n",
       "      <td>4</td>\n",
       "      <td>00000003_001.png</td>\n",
       "      <td>Hernia</td>\n",
       "      <td>0</td>\n",
       "      <td>3</td>\n",
       "      <td>74</td>\n",
       "      <td>F</td>\n",
       "      <td>PA</td>\n",
       "      <td>2500</td>\n",
       "      <td>2048</td>\n",
       "      <td>0.168</td>\n",
       "      <td>0.168</td>\n",
       "      <td>/content/drive/My Drive/Colab Notebooks/ChestX...</td>\n",
       "    </tr>\n",
       "  </tbody>\n",
       "</table>\n",
       "</div>"
      ],
      "text/plain": [
       "   Unnamed: 0       Image Index          Finding Labels  Follow-up #  \\\n",
       "0           0  00000001_000.png            Cardiomegaly            0   \n",
       "1           1  00000001_001.png  Cardiomegaly|Emphysema            1   \n",
       "2           2  00000001_002.png   Cardiomegaly|Effusion            2   \n",
       "3           3  00000002_000.png              No Finding            0   \n",
       "4           4  00000003_001.png                  Hernia            0   \n",
       "\n",
       "   Patient ID  Patient Age Patient Gender View Position  OriginalImage[Width  \\\n",
       "0           1           57              M            PA                 2682   \n",
       "1           1           58              M            PA                 2894   \n",
       "2           1           58              M            PA                 2500   \n",
       "3           2           80              M            PA                 2500   \n",
       "4           3           74              F            PA                 2500   \n",
       "\n",
       "   Height]  OriginalImagePixelSpacing[x     y]  \\\n",
       "0     2749                        0.143  0.143   \n",
       "1     2729                        0.143  0.143   \n",
       "2     2048                        0.168  0.168   \n",
       "3     2048                        0.171  0.171   \n",
       "4     2048                        0.168  0.168   \n",
       "\n",
       "                                                path  \n",
       "0  /content/drive/My Drive/Colab Notebooks/ChestX...  \n",
       "1  /content/drive/My Drive/Colab Notebooks/ChestX...  \n",
       "2  /content/drive/My Drive/Colab Notebooks/ChestX...  \n",
       "3  /content/drive/My Drive/Colab Notebooks/ChestX...  \n",
       "4  /content/drive/My Drive/Colab Notebooks/ChestX...  "
      ]
     },
     "execution_count": 6,
     "metadata": {},
     "output_type": "execute_result"
    }
   ],
   "source": [
    "all_xray_df.head()"
   ]
  },
  {
   "cell_type": "code",
   "execution_count": 7,
   "metadata": {
    "execution": {
     "iopub.execute_input": "2020-11-29T23:46:08.955128Z",
     "iopub.status.busy": "2020-11-29T23:46:08.954553Z",
     "iopub.status.idle": "2020-11-29T23:46:09.182929Z",
     "shell.execute_reply": "2020-11-29T23:46:09.182167Z"
    },
    "papermill": {
     "duration": 0.265978,
     "end_time": "2020-11-29T23:46:09.183046",
     "exception": false,
     "start_time": "2020-11-29T23:46:08.917068",
     "status": "completed"
    },
    "tags": []
   },
   "outputs": [],
   "source": [
    "all_xray_df['path'] = all_xray_df['path'].apply(lambda x: re.sub(r'/content/drive/My Drive/Colab Notebooks/ChestX-ray14/all_images_xray', '/kaggle/input/data', x))"
   ]
  },
  {
   "cell_type": "code",
   "execution_count": 8,
   "metadata": {
    "execution": {
     "iopub.execute_input": "2020-11-29T23:46:09.260442Z",
     "iopub.status.busy": "2020-11-29T23:46:09.259523Z",
     "iopub.status.idle": "2020-11-29T23:46:09.264729Z",
     "shell.execute_reply": "2020-11-29T23:46:09.264112Z"
    },
    "papermill": {
     "duration": 0.051386,
     "end_time": "2020-11-29T23:46:09.264826",
     "exception": false,
     "start_time": "2020-11-29T23:46:09.213440",
     "status": "completed"
    },
    "tags": []
   },
   "outputs": [
    {
     "data": {
      "text/html": [
       "<div>\n",
       "<style scoped>\n",
       "    .dataframe tbody tr th:only-of-type {\n",
       "        vertical-align: middle;\n",
       "    }\n",
       "\n",
       "    .dataframe tbody tr th {\n",
       "        vertical-align: top;\n",
       "    }\n",
       "\n",
       "    .dataframe thead th {\n",
       "        text-align: right;\n",
       "    }\n",
       "</style>\n",
       "<table border=\"1\" class=\"dataframe\">\n",
       "  <thead>\n",
       "    <tr style=\"text-align: right;\">\n",
       "      <th></th>\n",
       "      <th>Unnamed: 0</th>\n",
       "      <th>Image Index</th>\n",
       "      <th>Finding Labels</th>\n",
       "      <th>Follow-up #</th>\n",
       "      <th>Patient ID</th>\n",
       "      <th>Patient Age</th>\n",
       "      <th>Patient Gender</th>\n",
       "      <th>View Position</th>\n",
       "      <th>OriginalImage[Width</th>\n",
       "      <th>Height]</th>\n",
       "      <th>OriginalImagePixelSpacing[x</th>\n",
       "      <th>y]</th>\n",
       "      <th>path</th>\n",
       "    </tr>\n",
       "  </thead>\n",
       "  <tbody>\n",
       "    <tr>\n",
       "      <th>0</th>\n",
       "      <td>0</td>\n",
       "      <td>00000001_000.png</td>\n",
       "      <td>Cardiomegaly</td>\n",
       "      <td>0</td>\n",
       "      <td>1</td>\n",
       "      <td>57</td>\n",
       "      <td>M</td>\n",
       "      <td>PA</td>\n",
       "      <td>2682</td>\n",
       "      <td>2749</td>\n",
       "      <td>0.143</td>\n",
       "      <td>0.143</td>\n",
       "      <td>/kaggle/input/data/images_001/00000001_000.png</td>\n",
       "    </tr>\n",
       "    <tr>\n",
       "      <th>1</th>\n",
       "      <td>1</td>\n",
       "      <td>00000001_001.png</td>\n",
       "      <td>Cardiomegaly|Emphysema</td>\n",
       "      <td>1</td>\n",
       "      <td>1</td>\n",
       "      <td>58</td>\n",
       "      <td>M</td>\n",
       "      <td>PA</td>\n",
       "      <td>2894</td>\n",
       "      <td>2729</td>\n",
       "      <td>0.143</td>\n",
       "      <td>0.143</td>\n",
       "      <td>/kaggle/input/data/images_001/00000001_001.png</td>\n",
       "    </tr>\n",
       "    <tr>\n",
       "      <th>2</th>\n",
       "      <td>2</td>\n",
       "      <td>00000001_002.png</td>\n",
       "      <td>Cardiomegaly|Effusion</td>\n",
       "      <td>2</td>\n",
       "      <td>1</td>\n",
       "      <td>58</td>\n",
       "      <td>M</td>\n",
       "      <td>PA</td>\n",
       "      <td>2500</td>\n",
       "      <td>2048</td>\n",
       "      <td>0.168</td>\n",
       "      <td>0.168</td>\n",
       "      <td>/kaggle/input/data/images_001/00000001_002.png</td>\n",
       "    </tr>\n",
       "    <tr>\n",
       "      <th>3</th>\n",
       "      <td>3</td>\n",
       "      <td>00000002_000.png</td>\n",
       "      <td>No Finding</td>\n",
       "      <td>0</td>\n",
       "      <td>2</td>\n",
       "      <td>80</td>\n",
       "      <td>M</td>\n",
       "      <td>PA</td>\n",
       "      <td>2500</td>\n",
       "      <td>2048</td>\n",
       "      <td>0.171</td>\n",
       "      <td>0.171</td>\n",
       "      <td>/kaggle/input/data/images_001/00000002_000.png</td>\n",
       "    </tr>\n",
       "    <tr>\n",
       "      <th>4</th>\n",
       "      <td>4</td>\n",
       "      <td>00000003_001.png</td>\n",
       "      <td>Hernia</td>\n",
       "      <td>0</td>\n",
       "      <td>3</td>\n",
       "      <td>74</td>\n",
       "      <td>F</td>\n",
       "      <td>PA</td>\n",
       "      <td>2500</td>\n",
       "      <td>2048</td>\n",
       "      <td>0.168</td>\n",
       "      <td>0.168</td>\n",
       "      <td>/kaggle/input/data/images_001/00000003_001.png</td>\n",
       "    </tr>\n",
       "  </tbody>\n",
       "</table>\n",
       "</div>"
      ],
      "text/plain": [
       "   Unnamed: 0       Image Index          Finding Labels  Follow-up #  \\\n",
       "0           0  00000001_000.png            Cardiomegaly            0   \n",
       "1           1  00000001_001.png  Cardiomegaly|Emphysema            1   \n",
       "2           2  00000001_002.png   Cardiomegaly|Effusion            2   \n",
       "3           3  00000002_000.png              No Finding            0   \n",
       "4           4  00000003_001.png                  Hernia            0   \n",
       "\n",
       "   Patient ID  Patient Age Patient Gender View Position  OriginalImage[Width  \\\n",
       "0           1           57              M            PA                 2682   \n",
       "1           1           58              M            PA                 2894   \n",
       "2           1           58              M            PA                 2500   \n",
       "3           2           80              M            PA                 2500   \n",
       "4           3           74              F            PA                 2500   \n",
       "\n",
       "   Height]  OriginalImagePixelSpacing[x     y]  \\\n",
       "0     2749                        0.143  0.143   \n",
       "1     2729                        0.143  0.143   \n",
       "2     2048                        0.168  0.168   \n",
       "3     2048                        0.171  0.171   \n",
       "4     2048                        0.168  0.168   \n",
       "\n",
       "                                             path  \n",
       "0  /kaggle/input/data/images_001/00000001_000.png  \n",
       "1  /kaggle/input/data/images_001/00000001_001.png  \n",
       "2  /kaggle/input/data/images_001/00000001_002.png  \n",
       "3  /kaggle/input/data/images_001/00000002_000.png  \n",
       "4  /kaggle/input/data/images_001/00000003_001.png  "
      ]
     },
     "execution_count": 8,
     "metadata": {},
     "output_type": "execute_result"
    }
   ],
   "source": [
    "all_xray_df.head()"
   ]
  },
  {
   "cell_type": "code",
   "execution_count": 9,
   "metadata": {
    "execution": {
     "iopub.execute_input": "2020-11-29T23:46:09.340926Z",
     "iopub.status.busy": "2020-11-29T23:46:09.339880Z",
     "iopub.status.idle": "2020-11-29T23:46:11.608170Z",
     "shell.execute_reply": "2020-11-29T23:46:11.607549Z"
    },
    "papermill": {
     "duration": 2.312446,
     "end_time": "2020-11-29T23:46:11.608275",
     "exception": false,
     "start_time": "2020-11-29T23:46:09.295829",
     "status": "completed"
    },
    "tags": []
   },
   "outputs": [],
   "source": [
    "# /kaggle/input/data/images_010/images/00022402_002.png\n",
    "# /content/drive/My Drive/Colab Notebooks/ChestX-ray14/all_images_xray/\n",
    "all_xray_df['path'] = all_xray_df['path'].apply(lambda x: re.sub(r'/images_001', '/images_001/images', x))\n",
    "all_xray_df['path'] = all_xray_df['path'].apply(lambda x: re.sub(r'/images_002', '/images_002/images', x))\n",
    "all_xray_df['path'] = all_xray_df['path'].apply(lambda x: re.sub(r'/images_003', '/images_003/images', x))\n",
    "all_xray_df['path'] = all_xray_df['path'].apply(lambda x: re.sub(r'/images_004', '/images_004/images', x))\n",
    "all_xray_df['path'] = all_xray_df['path'].apply(lambda x: re.sub(r'/images_005', '/images_005/images', x))\n",
    "all_xray_df['path'] = all_xray_df['path'].apply(lambda x: re.sub(r'/images_006', '/images_006/images', x))\n",
    "all_xray_df['path'] = all_xray_df['path'].apply(lambda x: re.sub(r'/images_007', '/images_007/images', x))\n",
    "all_xray_df['path'] = all_xray_df['path'].apply(lambda x: re.sub(r'/images_008', '/images_008/images', x))\n",
    "all_xray_df['path'] = all_xray_df['path'].apply(lambda x: re.sub(r'/images_009', '/images_009/images', x))\n",
    "all_xray_df['path'] = all_xray_df['path'].apply(lambda x: re.sub(r'/images_010', '/images_010/images', x))\n",
    "all_xray_df['path'] = all_xray_df['path'].apply(lambda x: re.sub(r'/images_011', '/images_011/images', x))\n",
    "all_xray_df['path'] = all_xray_df['path'].apply(lambda x: re.sub(r'/images_012', '/images_012/images', x))\n",
    "\n",
    "\n"
   ]
  },
  {
   "cell_type": "code",
   "execution_count": 10,
   "metadata": {
    "execution": {
     "iopub.execute_input": "2020-11-29T23:46:11.693772Z",
     "iopub.status.busy": "2020-11-29T23:46:11.692353Z",
     "iopub.status.idle": "2020-11-29T23:46:11.696301Z",
     "shell.execute_reply": "2020-11-29T23:46:11.696853Z"
    },
    "papermill": {
     "duration": 0.055416,
     "end_time": "2020-11-29T23:46:11.696993",
     "exception": false,
     "start_time": "2020-11-29T23:46:11.641577",
     "status": "completed"
    },
    "tags": []
   },
   "outputs": [
    {
     "data": {
      "text/html": [
       "<div>\n",
       "<style scoped>\n",
       "    .dataframe tbody tr th:only-of-type {\n",
       "        vertical-align: middle;\n",
       "    }\n",
       "\n",
       "    .dataframe tbody tr th {\n",
       "        vertical-align: top;\n",
       "    }\n",
       "\n",
       "    .dataframe thead th {\n",
       "        text-align: right;\n",
       "    }\n",
       "</style>\n",
       "<table border=\"1\" class=\"dataframe\">\n",
       "  <thead>\n",
       "    <tr style=\"text-align: right;\">\n",
       "      <th></th>\n",
       "      <th>Unnamed: 0</th>\n",
       "      <th>Image Index</th>\n",
       "      <th>Finding Labels</th>\n",
       "      <th>Follow-up #</th>\n",
       "      <th>Patient ID</th>\n",
       "      <th>Patient Age</th>\n",
       "      <th>Patient Gender</th>\n",
       "      <th>View Position</th>\n",
       "      <th>OriginalImage[Width</th>\n",
       "      <th>Height]</th>\n",
       "      <th>OriginalImagePixelSpacing[x</th>\n",
       "      <th>y]</th>\n",
       "      <th>path</th>\n",
       "    </tr>\n",
       "  </thead>\n",
       "  <tbody>\n",
       "    <tr>\n",
       "      <th>0</th>\n",
       "      <td>0</td>\n",
       "      <td>00000001_000.png</td>\n",
       "      <td>Cardiomegaly</td>\n",
       "      <td>0</td>\n",
       "      <td>1</td>\n",
       "      <td>57</td>\n",
       "      <td>M</td>\n",
       "      <td>PA</td>\n",
       "      <td>2682</td>\n",
       "      <td>2749</td>\n",
       "      <td>0.143</td>\n",
       "      <td>0.143</td>\n",
       "      <td>/kaggle/input/data/images_001/images/00000001_...</td>\n",
       "    </tr>\n",
       "    <tr>\n",
       "      <th>1</th>\n",
       "      <td>1</td>\n",
       "      <td>00000001_001.png</td>\n",
       "      <td>Cardiomegaly|Emphysema</td>\n",
       "      <td>1</td>\n",
       "      <td>1</td>\n",
       "      <td>58</td>\n",
       "      <td>M</td>\n",
       "      <td>PA</td>\n",
       "      <td>2894</td>\n",
       "      <td>2729</td>\n",
       "      <td>0.143</td>\n",
       "      <td>0.143</td>\n",
       "      <td>/kaggle/input/data/images_001/images/00000001_...</td>\n",
       "    </tr>\n",
       "    <tr>\n",
       "      <th>2</th>\n",
       "      <td>2</td>\n",
       "      <td>00000001_002.png</td>\n",
       "      <td>Cardiomegaly|Effusion</td>\n",
       "      <td>2</td>\n",
       "      <td>1</td>\n",
       "      <td>58</td>\n",
       "      <td>M</td>\n",
       "      <td>PA</td>\n",
       "      <td>2500</td>\n",
       "      <td>2048</td>\n",
       "      <td>0.168</td>\n",
       "      <td>0.168</td>\n",
       "      <td>/kaggle/input/data/images_001/images/00000001_...</td>\n",
       "    </tr>\n",
       "    <tr>\n",
       "      <th>3</th>\n",
       "      <td>3</td>\n",
       "      <td>00000002_000.png</td>\n",
       "      <td>No Finding</td>\n",
       "      <td>0</td>\n",
       "      <td>2</td>\n",
       "      <td>80</td>\n",
       "      <td>M</td>\n",
       "      <td>PA</td>\n",
       "      <td>2500</td>\n",
       "      <td>2048</td>\n",
       "      <td>0.171</td>\n",
       "      <td>0.171</td>\n",
       "      <td>/kaggle/input/data/images_001/images/00000002_...</td>\n",
       "    </tr>\n",
       "    <tr>\n",
       "      <th>4</th>\n",
       "      <td>4</td>\n",
       "      <td>00000003_001.png</td>\n",
       "      <td>Hernia</td>\n",
       "      <td>0</td>\n",
       "      <td>3</td>\n",
       "      <td>74</td>\n",
       "      <td>F</td>\n",
       "      <td>PA</td>\n",
       "      <td>2500</td>\n",
       "      <td>2048</td>\n",
       "      <td>0.168</td>\n",
       "      <td>0.168</td>\n",
       "      <td>/kaggle/input/data/images_001/images/00000003_...</td>\n",
       "    </tr>\n",
       "  </tbody>\n",
       "</table>\n",
       "</div>"
      ],
      "text/plain": [
       "   Unnamed: 0       Image Index          Finding Labels  Follow-up #  \\\n",
       "0           0  00000001_000.png            Cardiomegaly            0   \n",
       "1           1  00000001_001.png  Cardiomegaly|Emphysema            1   \n",
       "2           2  00000001_002.png   Cardiomegaly|Effusion            2   \n",
       "3           3  00000002_000.png              No Finding            0   \n",
       "4           4  00000003_001.png                  Hernia            0   \n",
       "\n",
       "   Patient ID  Patient Age Patient Gender View Position  OriginalImage[Width  \\\n",
       "0           1           57              M            PA                 2682   \n",
       "1           1           58              M            PA                 2894   \n",
       "2           1           58              M            PA                 2500   \n",
       "3           2           80              M            PA                 2500   \n",
       "4           3           74              F            PA                 2500   \n",
       "\n",
       "   Height]  OriginalImagePixelSpacing[x     y]  \\\n",
       "0     2749                        0.143  0.143   \n",
       "1     2729                        0.143  0.143   \n",
       "2     2048                        0.168  0.168   \n",
       "3     2048                        0.171  0.171   \n",
       "4     2048                        0.168  0.168   \n",
       "\n",
       "                                                path  \n",
       "0  /kaggle/input/data/images_001/images/00000001_...  \n",
       "1  /kaggle/input/data/images_001/images/00000001_...  \n",
       "2  /kaggle/input/data/images_001/images/00000001_...  \n",
       "3  /kaggle/input/data/images_001/images/00000002_...  \n",
       "4  /kaggle/input/data/images_001/images/00000003_...  "
      ]
     },
     "execution_count": 10,
     "metadata": {},
     "output_type": "execute_result"
    }
   ],
   "source": [
    "all_xray_df.head()"
   ]
  },
  {
   "cell_type": "code",
   "execution_count": 11,
   "metadata": {
    "execution": {
     "iopub.execute_input": "2020-11-29T23:46:11.770166Z",
     "iopub.status.busy": "2020-11-29T23:46:11.769349Z",
     "iopub.status.idle": "2020-11-29T23:46:12.073559Z",
     "shell.execute_reply": "2020-11-29T23:46:12.074195Z"
    },
    "papermill": {
     "duration": 0.343196,
     "end_time": "2020-11-29T23:46:12.074390",
     "exception": false,
     "start_time": "2020-11-29T23:46:11.731194",
     "status": "completed"
    },
    "tags": []
   },
   "outputs": [
    {
     "name": "stdout",
     "output_type": "stream",
     "text": [
      "All Labels (14): ['Atelectasis', 'Cardiomegaly', 'Consolidation', 'Edema', 'Effusion', 'Emphysema', 'Fibrosis', 'Hernia', 'Infiltration', 'Mass', 'Nodule', 'Pleural_Thickening', 'Pneumonia', 'Pneumothorax']\n"
     ]
    }
   ],
   "source": [
    "# Substituir as labels com valor 'No Finding' em ''\n",
    "all_xray_df['Finding Labels'] = all_xray_df['Finding Labels'].map(lambda x: x.replace('No Finding', ''))\n",
    "from itertools import chain\n",
    "\n",
    "# Capturo apenas os valores únicos considerando os valores individuais de cada label separados entre si\n",
    "all_labels = np.unique(list(chain(*all_xray_df['Finding Labels'].map(lambda x: x.split('|')).tolist())))\n",
    "\n",
    "# atualizo a variável all_labels excluindo os valores vazios\n",
    "all_labels = [x for x in all_labels if len(x)>0]\n",
    "print('All Labels ({}): {}'.format(len(all_labels), all_labels))"
   ]
  },
  {
   "cell_type": "code",
   "execution_count": 12,
   "metadata": {
    "execution": {
     "iopub.execute_input": "2020-11-29T23:46:12.148541Z",
     "iopub.status.busy": "2020-11-29T23:46:12.147725Z",
     "iopub.status.idle": "2020-11-29T23:46:13.111916Z",
     "shell.execute_reply": "2020-11-29T23:46:13.112390Z"
    },
    "papermill": {
     "duration": 1.004676,
     "end_time": "2020-11-29T23:46:13.112537",
     "exception": false,
     "start_time": "2020-11-29T23:46:12.107861",
     "status": "completed"
    },
    "tags": []
   },
   "outputs": [],
   "source": [
    "# Crio as colunas adicionais ao df\n",
    "# cada coluna é uma doença descoberta no df all_labels\n",
    "# e para cada coluna, se o valor for 1 da respectiva linha, significa que aquele exemplo\n",
    "# tinha doença da respectiva coluna.\n",
    "for c_label in all_labels:\n",
    "    if len(c_label)>1: # deixar as labels \n",
    "        all_xray_df[c_label] = all_xray_df['Finding Labels'].map(lambda finding: 1.0 if c_label in finding else 0)\n",
    "\n",
    "all_xray_df_labels_detailed = all_xray_df[all_labels]"
   ]
  },
  {
   "cell_type": "code",
   "execution_count": 13,
   "metadata": {
    "execution": {
     "iopub.execute_input": "2020-11-29T23:46:13.185074Z",
     "iopub.status.busy": "2020-11-29T23:46:13.184195Z",
     "iopub.status.idle": "2020-11-29T23:47:12.462263Z",
     "shell.execute_reply": "2020-11-29T23:47:12.461192Z"
    },
    "papermill": {
     "duration": 59.317091,
     "end_time": "2020-11-29T23:47:12.462414",
     "exception": false,
     "start_time": "2020-11-29T23:46:13.145323",
     "status": "completed"
    },
    "tags": []
   },
   "outputs": [],
   "source": [
    "all_xray_df['disease_vector'] = all_xray_df.apply(lambda x: [x[all_labels].values], 1).map(lambda x: x[0])"
   ]
  },
  {
   "cell_type": "code",
   "execution_count": 14,
   "metadata": {
    "execution": {
     "iopub.execute_input": "2020-11-29T23:47:12.534021Z",
     "iopub.status.busy": "2020-11-29T23:47:12.533073Z",
     "iopub.status.idle": "2020-11-29T23:47:15.442172Z",
     "shell.execute_reply": "2020-11-29T23:47:15.441240Z"
    },
    "papermill": {
     "duration": 2.94672,
     "end_time": "2020-11-29T23:47:15.442311",
     "exception": false,
     "start_time": "2020-11-29T23:47:12.495591",
     "status": "completed"
    },
    "tags": []
   },
   "outputs": [],
   "source": [
    "all_xray_df['newLabel'] = all_xray_df.apply(lambda x: x['Finding Labels'].split('|'), axis=1)\n",
    "all_xray_df = all_xray_df[all_xray_df['Finding Labels'] != \"\"]"
   ]
  },
  {
   "cell_type": "code",
   "execution_count": 15,
   "metadata": {
    "execution": {
     "iopub.execute_input": "2020-11-29T23:47:15.515789Z",
     "iopub.status.busy": "2020-11-29T23:47:15.515079Z",
     "iopub.status.idle": "2020-11-29T23:47:20.687661Z",
     "shell.execute_reply": "2020-11-29T23:47:20.686052Z"
    },
    "papermill": {
     "duration": 5.212295,
     "end_time": "2020-11-29T23:47:20.687785",
     "exception": false,
     "start_time": "2020-11-29T23:47:15.475490",
     "status": "completed"
    },
    "tags": []
   },
   "outputs": [],
   "source": [
    "all_xray_df.to_csv('all_xray_df_path_kaggle.csv')"
   ]
  },
  {
   "cell_type": "code",
   "execution_count": 16,
   "metadata": {
    "execution": {
     "iopub.execute_input": "2020-11-29T23:47:20.783221Z",
     "iopub.status.busy": "2020-11-29T23:47:20.782249Z",
     "iopub.status.idle": "2020-11-29T23:47:21.096795Z",
     "shell.execute_reply": "2020-11-29T23:47:21.097374Z"
    },
    "papermill": {
     "duration": 0.369514,
     "end_time": "2020-11-29T23:47:21.097518",
     "exception": false,
     "start_time": "2020-11-29T23:47:20.728004",
     "status": "completed"
    },
    "tags": []
   },
   "outputs": [
    {
     "data": {
      "text/html": [
       "<div>\n",
       "<style scoped>\n",
       "    .dataframe tbody tr th:only-of-type {\n",
       "        vertical-align: middle;\n",
       "    }\n",
       "\n",
       "    .dataframe tbody tr th {\n",
       "        vertical-align: top;\n",
       "    }\n",
       "\n",
       "    .dataframe thead th {\n",
       "        text-align: right;\n",
       "    }\n",
       "</style>\n",
       "<table border=\"1\" class=\"dataframe\">\n",
       "  <thead>\n",
       "    <tr style=\"text-align: right;\">\n",
       "      <th></th>\n",
       "      <th>Unnamed: 0</th>\n",
       "      <th>Unnamed: 0.1</th>\n",
       "      <th>Image Index</th>\n",
       "      <th>Finding Labels</th>\n",
       "      <th>Follow-up #</th>\n",
       "      <th>Patient ID</th>\n",
       "      <th>Patient Age</th>\n",
       "      <th>Patient Gender</th>\n",
       "      <th>View Position</th>\n",
       "      <th>OriginalImage[Width</th>\n",
       "      <th>...</th>\n",
       "      <th>Fibrosis</th>\n",
       "      <th>Hernia</th>\n",
       "      <th>Infiltration</th>\n",
       "      <th>Mass</th>\n",
       "      <th>Nodule</th>\n",
       "      <th>Pleural_Thickening</th>\n",
       "      <th>Pneumonia</th>\n",
       "      <th>Pneumothorax</th>\n",
       "      <th>disease_vector</th>\n",
       "      <th>newLabel</th>\n",
       "    </tr>\n",
       "  </thead>\n",
       "  <tbody>\n",
       "    <tr>\n",
       "      <th>0</th>\n",
       "      <td>0</td>\n",
       "      <td>0</td>\n",
       "      <td>00000001_000.png</td>\n",
       "      <td>Cardiomegaly</td>\n",
       "      <td>0</td>\n",
       "      <td>1</td>\n",
       "      <td>57</td>\n",
       "      <td>M</td>\n",
       "      <td>PA</td>\n",
       "      <td>2682</td>\n",
       "      <td>...</td>\n",
       "      <td>0.0</td>\n",
       "      <td>0.0</td>\n",
       "      <td>0.0</td>\n",
       "      <td>0.0</td>\n",
       "      <td>0.0</td>\n",
       "      <td>0.0</td>\n",
       "      <td>0.0</td>\n",
       "      <td>0.0</td>\n",
       "      <td>[0.0 1.0 0.0 0.0 0.0 0.0 0.0 0.0 0.0 0.0 0.0 0...</td>\n",
       "      <td>['Cardiomegaly']</td>\n",
       "    </tr>\n",
       "    <tr>\n",
       "      <th>1</th>\n",
       "      <td>1</td>\n",
       "      <td>1</td>\n",
       "      <td>00000001_001.png</td>\n",
       "      <td>Cardiomegaly|Emphysema</td>\n",
       "      <td>1</td>\n",
       "      <td>1</td>\n",
       "      <td>58</td>\n",
       "      <td>M</td>\n",
       "      <td>PA</td>\n",
       "      <td>2894</td>\n",
       "      <td>...</td>\n",
       "      <td>0.0</td>\n",
       "      <td>0.0</td>\n",
       "      <td>0.0</td>\n",
       "      <td>0.0</td>\n",
       "      <td>0.0</td>\n",
       "      <td>0.0</td>\n",
       "      <td>0.0</td>\n",
       "      <td>0.0</td>\n",
       "      <td>[0.0 1.0 0.0 0.0 0.0 1.0 0.0 0.0 0.0 0.0 0.0 0...</td>\n",
       "      <td>['Cardiomegaly', 'Emphysema']</td>\n",
       "    </tr>\n",
       "    <tr>\n",
       "      <th>2</th>\n",
       "      <td>2</td>\n",
       "      <td>2</td>\n",
       "      <td>00000001_002.png</td>\n",
       "      <td>Cardiomegaly|Effusion</td>\n",
       "      <td>2</td>\n",
       "      <td>1</td>\n",
       "      <td>58</td>\n",
       "      <td>M</td>\n",
       "      <td>PA</td>\n",
       "      <td>2500</td>\n",
       "      <td>...</td>\n",
       "      <td>0.0</td>\n",
       "      <td>0.0</td>\n",
       "      <td>0.0</td>\n",
       "      <td>0.0</td>\n",
       "      <td>0.0</td>\n",
       "      <td>0.0</td>\n",
       "      <td>0.0</td>\n",
       "      <td>0.0</td>\n",
       "      <td>[0.0 1.0 0.0 0.0 1.0 0.0 0.0 0.0 0.0 0.0 0.0 0...</td>\n",
       "      <td>['Cardiomegaly', 'Effusion']</td>\n",
       "    </tr>\n",
       "    <tr>\n",
       "      <th>3</th>\n",
       "      <td>4</td>\n",
       "      <td>4</td>\n",
       "      <td>00000003_001.png</td>\n",
       "      <td>Hernia</td>\n",
       "      <td>0</td>\n",
       "      <td>3</td>\n",
       "      <td>74</td>\n",
       "      <td>F</td>\n",
       "      <td>PA</td>\n",
       "      <td>2500</td>\n",
       "      <td>...</td>\n",
       "      <td>0.0</td>\n",
       "      <td>1.0</td>\n",
       "      <td>0.0</td>\n",
       "      <td>0.0</td>\n",
       "      <td>0.0</td>\n",
       "      <td>0.0</td>\n",
       "      <td>0.0</td>\n",
       "      <td>0.0</td>\n",
       "      <td>[0.0 0.0 0.0 0.0 0.0 0.0 0.0 1.0 0.0 0.0 0.0 0...</td>\n",
       "      <td>['Hernia']</td>\n",
       "    </tr>\n",
       "    <tr>\n",
       "      <th>4</th>\n",
       "      <td>5</td>\n",
       "      <td>5</td>\n",
       "      <td>00000003_002.png</td>\n",
       "      <td>Hernia</td>\n",
       "      <td>1</td>\n",
       "      <td>3</td>\n",
       "      <td>75</td>\n",
       "      <td>F</td>\n",
       "      <td>PA</td>\n",
       "      <td>2048</td>\n",
       "      <td>...</td>\n",
       "      <td>0.0</td>\n",
       "      <td>1.0</td>\n",
       "      <td>0.0</td>\n",
       "      <td>0.0</td>\n",
       "      <td>0.0</td>\n",
       "      <td>0.0</td>\n",
       "      <td>0.0</td>\n",
       "      <td>0.0</td>\n",
       "      <td>[0.0 0.0 0.0 0.0 0.0 0.0 0.0 1.0 0.0 0.0 0.0 0...</td>\n",
       "      <td>['Hernia']</td>\n",
       "    </tr>\n",
       "  </tbody>\n",
       "</table>\n",
       "<p>5 rows × 30 columns</p>\n",
       "</div>"
      ],
      "text/plain": [
       "   Unnamed: 0  Unnamed: 0.1       Image Index          Finding Labels  \\\n",
       "0           0             0  00000001_000.png            Cardiomegaly   \n",
       "1           1             1  00000001_001.png  Cardiomegaly|Emphysema   \n",
       "2           2             2  00000001_002.png   Cardiomegaly|Effusion   \n",
       "3           4             4  00000003_001.png                  Hernia   \n",
       "4           5             5  00000003_002.png                  Hernia   \n",
       "\n",
       "   Follow-up #  Patient ID  Patient Age Patient Gender View Position  \\\n",
       "0            0           1           57              M            PA   \n",
       "1            1           1           58              M            PA   \n",
       "2            2           1           58              M            PA   \n",
       "3            0           3           74              F            PA   \n",
       "4            1           3           75              F            PA   \n",
       "\n",
       "   OriginalImage[Width  ...  Fibrosis  Hernia  Infiltration Mass  Nodule  \\\n",
       "0                 2682  ...       0.0     0.0           0.0  0.0     0.0   \n",
       "1                 2894  ...       0.0     0.0           0.0  0.0     0.0   \n",
       "2                 2500  ...       0.0     0.0           0.0  0.0     0.0   \n",
       "3                 2500  ...       0.0     1.0           0.0  0.0     0.0   \n",
       "4                 2048  ...       0.0     1.0           0.0  0.0     0.0   \n",
       "\n",
       "   Pleural_Thickening  Pneumonia  Pneumothorax  \\\n",
       "0                 0.0        0.0           0.0   \n",
       "1                 0.0        0.0           0.0   \n",
       "2                 0.0        0.0           0.0   \n",
       "3                 0.0        0.0           0.0   \n",
       "4                 0.0        0.0           0.0   \n",
       "\n",
       "                                      disease_vector  \\\n",
       "0  [0.0 1.0 0.0 0.0 0.0 0.0 0.0 0.0 0.0 0.0 0.0 0...   \n",
       "1  [0.0 1.0 0.0 0.0 0.0 1.0 0.0 0.0 0.0 0.0 0.0 0...   \n",
       "2  [0.0 1.0 0.0 0.0 1.0 0.0 0.0 0.0 0.0 0.0 0.0 0...   \n",
       "3  [0.0 0.0 0.0 0.0 0.0 0.0 0.0 1.0 0.0 0.0 0.0 0...   \n",
       "4  [0.0 0.0 0.0 0.0 0.0 0.0 0.0 1.0 0.0 0.0 0.0 0...   \n",
       "\n",
       "                        newLabel  \n",
       "0               ['Cardiomegaly']  \n",
       "1  ['Cardiomegaly', 'Emphysema']  \n",
       "2   ['Cardiomegaly', 'Effusion']  \n",
       "3                     ['Hernia']  \n",
       "4                     ['Hernia']  \n",
       "\n",
       "[5 rows x 30 columns]"
      ]
     },
     "execution_count": 16,
     "metadata": {},
     "output_type": "execute_result"
    }
   ],
   "source": [
    "teste = pd.read_csv('all_xray_df_path_kaggle.csv')\n",
    "teste.head()"
   ]
  },
  {
   "cell_type": "code",
   "execution_count": 17,
   "metadata": {
    "execution": {
     "iopub.execute_input": "2020-11-29T23:47:21.190152Z",
     "iopub.status.busy": "2020-11-29T23:47:21.174510Z",
     "iopub.status.idle": "2020-11-29T23:47:21.331063Z",
     "shell.execute_reply": "2020-11-29T23:47:21.330574Z"
    },
    "papermill": {
     "duration": 0.197082,
     "end_time": "2020-11-29T23:47:21.331167",
     "exception": false,
     "start_time": "2020-11-29T23:47:21.134085",
     "status": "completed"
    },
    "tags": []
   },
   "outputs": [
    {
     "name": "stdout",
     "output_type": "stream",
     "text": [
      "train 38819 validation 12940\n"
     ]
    }
   ],
   "source": [
    "train_df, valid_df = train_test_split(all_xray_df, \n",
    "                                   test_size = 0.25,\n",
    "                                   random_state = 2018,\n",
    "                                   stratify = all_xray_df['Finding Labels'].map(lambda x: x[:4]))\n",
    "print('train', train_df.shape[0], 'validation', valid_df.shape[0])"
   ]
  },
  {
   "cell_type": "code",
   "execution_count": 18,
   "metadata": {
    "execution": {
     "iopub.execute_input": "2020-11-29T23:47:21.407220Z",
     "iopub.status.busy": "2020-11-29T23:47:21.406594Z",
     "iopub.status.idle": "2020-11-29T23:47:21.410203Z",
     "shell.execute_reply": "2020-11-29T23:47:21.409675Z"
    },
    "papermill": {
     "duration": 0.044051,
     "end_time": "2020-11-29T23:47:21.410309",
     "exception": false,
     "start_time": "2020-11-29T23:47:21.366258",
     "status": "completed"
    },
    "tags": []
   },
   "outputs": [],
   "source": [
    "IMG_SIZE = (250, 250)\n",
    "core_idg = ImageDataGenerator(samplewise_center=True, \n",
    "  samplewise_std_normalization=True, \n",
    "  horizontal_flip = True, \n",
    "  vertical_flip = False, \n",
    "  height_shift_range= 0.05, \n",
    "  width_shift_range=0.1, \n",
    "  rotation_range=5, \n",
    "  shear_range = 0.1,\n",
    "  fill_mode = 'reflect',\n",
    "  zoom_range=0.15\n",
    ")"
   ]
  },
  {
   "cell_type": "code",
   "execution_count": 19,
   "metadata": {
    "execution": {
     "iopub.execute_input": "2020-11-29T23:47:21.489023Z",
     "iopub.status.busy": "2020-11-29T23:47:21.488352Z",
     "iopub.status.idle": "2020-11-29T23:47:21.491948Z",
     "shell.execute_reply": "2020-11-29T23:47:21.491463Z"
    },
    "papermill": {
     "duration": 0.046853,
     "end_time": "2020-11-29T23:47:21.492036",
     "exception": false,
     "start_time": "2020-11-29T23:47:21.445183",
     "status": "completed"
    },
    "tags": []
   },
   "outputs": [],
   "source": [
    "def importar_imagens(train_df,valid_df):\n",
    "  train_gen = core_idg.flow_from_dataframe(dataframe=train_df, \n",
    "                              directory=None,\n",
    "                              x_col = 'path',\n",
    "                              y_col = 'newLabel', \n",
    "                              class_mode = 'categorical',\n",
    "                              classes = all_labels,\n",
    "                              target_size = IMG_SIZE,\n",
    "                              color_mode = 'grayscale',\n",
    "                              batch_size = 32,\n",
    "  )\n",
    "\n",
    "  valid_gen = core_idg.flow_from_dataframe(dataframe=valid_df, \n",
    "                              directory=None,\n",
    "                              x_col = 'path',\n",
    "                              y_col = 'newLabel', \n",
    "                              class_mode = 'categorical',\n",
    "                              classes = all_labels,\n",
    "                              target_size = IMG_SIZE,\n",
    "                              color_mode = 'grayscale',\n",
    "                              batch_size = 256,\n",
    "  )\n",
    "  test_X, test_Y = next(core_idg.flow_from_dataframe(dataframe=valid_df, \n",
    "                              directory=None,\n",
    "                              x_col = 'path',\n",
    "                              y_col = 'newLabel', \n",
    "                              class_mode = 'categorical',\n",
    "                              classes = all_labels,\n",
    "                              target_size = IMG_SIZE,\n",
    "                              color_mode = 'grayscale',\n",
    "                              batch_size = 1024,\n",
    "  ))\n",
    "\n",
    "  return train_gen, valid_gen, test_X, test_Y\n"
   ]
  },
  {
   "cell_type": "code",
   "execution_count": 20,
   "metadata": {
    "execution": {
     "iopub.execute_input": "2020-11-29T23:47:21.567848Z",
     "iopub.status.busy": "2020-11-29T23:47:21.567121Z",
     "iopub.status.idle": "2020-11-29T23:47:21.571010Z",
     "shell.execute_reply": "2020-11-29T23:47:21.570476Z"
    },
    "papermill": {
     "duration": 0.04446,
     "end_time": "2020-11-29T23:47:21.571106",
     "exception": false,
     "start_time": "2020-11-29T23:47:21.526646",
     "status": "completed"
    },
    "tags": []
   },
   "outputs": [],
   "source": [
    "def importar_imagens_treinamento_apenas(train_df):\n",
    "  train_gen = core_idg.flow_from_dataframe(dataframe=train_df, \n",
    "                              directory=None,\n",
    "                              x_col = 'path',\n",
    "                              y_col = 'newLabel', \n",
    "                              class_mode = 'categorical',\n",
    "                              classes = all_labels,\n",
    "                              target_size = IMG_SIZE,\n",
    "                              color_mode = 'grayscale',\n",
    "                              batch_size = 32,\n",
    "  )\n",
    "  return train_gen"
   ]
  },
  {
   "cell_type": "code",
   "execution_count": 21,
   "metadata": {
    "execution": {
     "iopub.execute_input": "2020-11-29T23:47:21.661858Z",
     "iopub.status.busy": "2020-11-29T23:47:21.659578Z",
     "iopub.status.idle": "2020-11-29T23:47:21.664687Z",
     "shell.execute_reply": "2020-11-29T23:47:21.664177Z"
    },
    "papermill": {
     "duration": 0.05824,
     "end_time": "2020-11-29T23:47:21.664784",
     "exception": false,
     "start_time": "2020-11-29T23:47:21.606544",
     "status": "completed"
    },
    "tags": []
   },
   "outputs": [],
   "source": [
    "# Funcao que aumenta amostra\n",
    "def upsampling(df, delta, rank_list, qtd_classes):\n",
    "    '''\n",
    "    df\n",
    "    df_fitrado_com_apenas_a_label = dataframe\n",
    "    delta do algoritmo de upsampling do artigo\n",
    "    rank_list = DataFrane com o rank com as labels do melhor AUC (primeiro) e pior AUC (último)\n",
    "    qtd_classes = inteiro\n",
    "    '''\n",
    "    try:\n",
    "        rank_list_upsampling = rank_list.sort_values(by=[1],ascending=False)\n",
    "    except:\n",
    "        rank_list_upsampling = rank_list.sort_values(by=['1'],ascending=False)\n",
    "\n",
    "    soma = 0\n",
    "    df_original = df.copy()\n",
    "    print(\"{:20} | {:9} | {:9} | {:9} | {:9} | {:9}\".format(\"label\",\"fator_k\", \"q_atualiz\", \"q_orig\", \"valor_cal\", \"qtd_final\"))\n",
    "    for i in range(qtd_classes):\n",
    "        df_fitrado_com_apenas_a_label_original = df_original[df_original[rank_list_upsampling[0].iloc[i]]==1]\n",
    "        df_fitrado_com_apenas_a_label_atualizado = df[df[rank_list_upsampling[0].iloc[i]]==1]\n",
    "    \n",
    "        pi_k = i+1\n",
    "        qtd = ((pi_k - 1)/(qtd_classes - 1))*(delta-1) + 1\n",
    "        qtd_atual_classe_original = df_fitrado_com_apenas_a_label_original.shape[0]\n",
    "        qtd_atual_classe_atualizado = df_fitrado_com_apenas_a_label_atualizado.shape[0]\n",
    "\n",
    "        diferenca = qtd_atual_classe_atualizado - qtd_atual_classe_original #Valor deveria ser maior ou igual a zero\n",
    "\n",
    "        # Se a diferença entre o valor resultante das atualizações com o valor original for maior\n",
    "        # que a o valor a ser adicionado pelo fator do artigo, então, não adiciono nada\n",
    "\n",
    "        if (diferenca > int((qtd - 1) * qtd_atual_classe_original)):\n",
    "            qtd_adicional = 0\n",
    "        else:\n",
    "            qtd_adicional = int((qtd - 1) * qtd_atual_classe_original) - diferenca\n",
    "\n",
    "        print(\"{:20} | {:9.2f} | {:9.2f} | {:9.2f} | {:9.2f} | {:9.2f}\".format(rank_list_upsampling[0].iloc[i], qtd, qtd_atual_classe_atualizado, qtd_atual_classe_original, int((qtd - 1) * qtd_atual_classe_atualizado), qtd_adicional))\n",
    "        df_upsampled = resample(\n",
    "            df_fitrado_com_apenas_a_label_atualizado,   # DataFrame com exemplos apenas daquela classe\n",
    "            replace=True,                               # sample with replacement\n",
    "            n_samples=qtd_adicional,                    # to match majority class\n",
    "            random_state=1                              # reproducible results\n",
    "        )\n",
    "        # Adiciono os exemplos gerados na nbase original\n",
    "        soma+=df_upsampled.shape[0]\n",
    "        df = df.append(df_upsampled)\n",
    "    return df"
   ]
  },
  {
   "cell_type": "code",
   "execution_count": 22,
   "metadata": {
    "execution": {
     "iopub.execute_input": "2020-11-29T23:47:21.742197Z",
     "iopub.status.busy": "2020-11-29T23:47:21.741566Z",
     "iopub.status.idle": "2020-11-29T23:47:21.745807Z",
     "shell.execute_reply": "2020-11-29T23:47:21.745122Z"
    },
    "papermill": {
     "duration": 0.045855,
     "end_time": "2020-11-29T23:47:21.745905",
     "exception": false,
     "start_time": "2020-11-29T23:47:21.700050",
     "status": "completed"
    },
    "tags": []
   },
   "outputs": [],
   "source": [
    "# weight_path='benchmark_model.hdf5'\n",
    "# # checkpoint = ModelCheckpoint(weight_path, monitor='val_loss', verbose=1, \n",
    "# #                              save_best_only=True, mode='min', save_weights_only = True)\n",
    "# checkpoint = ModelCheckpoint(weight_path, monitor='val_loss', verbose=1, \n",
    "#                              mode='min', save_best_only = True, save_weights_only = False)\n",
    "\n",
    "# early = EarlyStopping(monitor=\"val_loss\", \n",
    "#                       mode=\"min\", \n",
    "#                       patience=3)\n",
    "# callbacks_list = [checkpoint, early]"
   ]
  },
  {
   "cell_type": "code",
   "execution_count": 23,
   "metadata": {
    "execution": {
     "iopub.execute_input": "2020-11-29T23:47:21.827461Z",
     "iopub.status.busy": "2020-11-29T23:47:21.826826Z",
     "iopub.status.idle": "2020-11-29T23:47:21.831160Z",
     "shell.execute_reply": "2020-11-29T23:47:21.830650Z"
    },
    "papermill": {
     "duration": 0.045971,
     "end_time": "2020-11-29T23:47:21.831248",
     "exception": false,
     "start_time": "2020-11-29T23:47:21.785277",
     "status": "completed"
    },
    "tags": []
   },
   "outputs": [],
   "source": [
    "def VGG16_parameter(shape):\n",
    "    base_model = tf.keras.applications.VGG16(input_shape = shape, \n",
    "                                  include_top = False,\n",
    "                                  weights=None,\n",
    "                                  )\n",
    "    base_model.trainable = False\n",
    "    multi_disease_model = Sequential()\n",
    "    multi_disease_model.add(base_model)\n",
    "    multi_disease_model.add(Flatten())\n",
    "    multi_disease_model.add(Dense(14,activation='softmax'))\n",
    "    multi_disease_model.compile(optimizer = 'adam', loss = 'binary_crossentropy',\n",
    "                            metrics = ['binary_accuracy', 'mae'])\n",
    "    return multi_disease_model"
   ]
  },
  {
   "cell_type": "code",
   "execution_count": 24,
   "metadata": {
    "execution": {
     "iopub.execute_input": "2020-11-29T23:47:21.908938Z",
     "iopub.status.busy": "2020-11-29T23:47:21.908223Z",
     "iopub.status.idle": "2020-11-29T23:47:21.911621Z",
     "shell.execute_reply": "2020-11-29T23:47:21.911012Z"
    },
    "papermill": {
     "duration": 0.044819,
     "end_time": "2020-11-29T23:47:21.911730",
     "exception": false,
     "start_time": "2020-11-29T23:47:21.866911",
     "status": "completed"
    },
    "tags": []
   },
   "outputs": [],
   "source": [
    "def Densenet_121_parameter(shape):\n",
    "    base_model = tf.keras.applications.DenseNet121(input_shape =  shape, \n",
    "                                  include_top = False,\n",
    "                                  weights=None,\n",
    "                                  )\n",
    "    base_model.trainable = False\n",
    "    multi_disease_model = Sequential()\n",
    "    multi_disease_model.add(base_model)\n",
    "    multi_disease_model.add(Flatten())\n",
    "    multi_disease_model.add(Dense(14,activation='softmax'))\n",
    "    multi_disease_model.compile(optimizer = 'adam', loss = 'binary_crossentropy',\n",
    "                            metrics = ['binary_accuracy', 'mae'])\n",
    "    return multi_disease_model"
   ]
  },
  {
   "cell_type": "code",
   "execution_count": 25,
   "metadata": {
    "execution": {
     "iopub.execute_input": "2020-11-29T23:47:21.989898Z",
     "iopub.status.busy": "2020-11-29T23:47:21.989015Z",
     "iopub.status.idle": "2020-11-29T23:48:05.498704Z",
     "shell.execute_reply": "2020-11-29T23:48:05.499360Z"
    },
    "papermill": {
     "duration": 43.551006,
     "end_time": "2020-11-29T23:48:05.499507",
     "exception": false,
     "start_time": "2020-11-29T23:47:21.948501",
     "status": "completed"
    },
    "tags": []
   },
   "outputs": [
    {
     "name": "stdout",
     "output_type": "stream",
     "text": [
      "Dia 29 - 20:47:21 - Carregamento Imagens: início\n",
      "Found 38819 validated image filenames belonging to 14 classes.\n",
      "Found 12940 validated image filenames belonging to 14 classes.\n",
      "Found 12940 validated image filenames belonging to 14 classes.\n",
      "Dia 29 - 20:48:5 - Carregamento Imagens: fim\n"
     ]
    }
   ],
   "source": [
    "# Baixar imagens\n",
    "custom_print('Carregamento Imagens: início')\n",
    "train_gen, valid_gen, test_X, test_Y = importar_imagens(train_df,valid_df)\n",
    "custom_print('Carregamento Imagens: fim')"
   ]
  },
  {
   "cell_type": "code",
   "execution_count": 26,
   "metadata": {
    "execution": {
     "iopub.execute_input": "2020-11-29T23:48:05.599637Z",
     "iopub.status.busy": "2020-11-29T23:48:05.594477Z",
     "iopub.status.idle": "2020-11-29T23:48:05.602586Z",
     "shell.execute_reply": "2020-11-29T23:48:05.602068Z"
    },
    "papermill": {
     "duration": 0.065031,
     "end_time": "2020-11-29T23:48:05.602697",
     "exception": false,
     "start_time": "2020-11-29T23:48:05.537666",
     "status": "completed"
    },
    "tags": []
   },
   "outputs": [],
   "source": [
    "'''\n",
    "Algoritmo inteiro numa função:\n",
    "1 - input: train_gen, valid_gen, test_X, test_Y,ciclos,epocas\n",
    "2 - output: modelo treinado depois de vários ciclos e épocas & último train_gen\n",
    "\n",
    "'''\n",
    "\n",
    "def rodar_todo_algoritmo(train_gen, valid_gen, test_X, test_Y, train_df, ciclos, epocas, versao_modelo, epoca_inicial = 0, path_modelo_rodado = None, ciclo=0):\n",
    "    if (path_modelo_rodado != None):\n",
    "        multi_disease_model = load_model(path_modelo_rodado)\n",
    "    else:\n",
    "        multi_disease_model = Densenet_121_parameter((250,250,1))\n",
    "    \n",
    "#     for ciclo in range(ciclos):\n",
    "    while (ciclo < ciclos):\n",
    "        print('##########################################')\n",
    "        print('##########################################')\n",
    "        custom_print('Ciclo {} iniciado'.format(ciclo))\n",
    "        nome_modelo_path = \"{}_ciclo_{}_epocas_{}_versao_modelo_DenseNet_121.hdf5\".format(ciclo,epocas,versao_modelo)\n",
    "        checkpoint = ModelCheckpoint(nome_modelo_path, monitor='val_loss', verbose=1, mode='min', save_best_only = True, save_weights_only = False)\n",
    "        early = EarlyStopping(monitor=\"val_loss\", mode=\"min\", patience=3)\n",
    "        callbacks_list = [checkpoint, early]\n",
    "        \n",
    "        custom_print('Treinamento iniciado')\n",
    "        if (ciclo == 0 & epoca_inicial > 0):            \n",
    "            multi_disease_model.fit_generator(train_gen,\n",
    "                                              steps_per_epoch = train_df.shape[0] //train_gen.batch_size,\n",
    "                                              validation_data =  valid_gen, \n",
    "                                              epochs = epocas, \n",
    "                                              callbacks = callbacks_list,\n",
    "                                              initial_epoch = epoca_inicial)\n",
    "        else:\n",
    "            multi_disease_model.fit_generator(train_gen,\n",
    "                                              steps_per_epoch = train_df.shape[0] //train_gen.batch_size,\n",
    "                                              validation_data =  valid_gen, \n",
    "                                              epochs = epocas, \n",
    "                                              callbacks = callbacks_list)\n",
    "            \n",
    "        custom_print('Treinamento terminado')\n",
    "\n",
    "        # preve com a base de testes e gera a curva ROC\n",
    "        pred_Y = multi_disease_model.predict(test_X, batch_size = 32, verbose = True)\n",
    "\n",
    "        fig, c_ax = plt.subplots(1,1, figsize = (9, 9))\n",
    "        rank_list = []\n",
    "        for (idx, c_label) in enumerate(all_labels):\n",
    "            fpr, tpr, thresholds = roc_curve(test_Y[:,idx].astype(int), pred_Y[:,idx])\n",
    "            c_ax.plot(fpr, tpr, label = '%s (AUC:%0.2f)'  % (c_label, auc(fpr, tpr)))\n",
    "            rank_list.append([c_label,auc(fpr, tpr)])\n",
    "        rank_list = pd.DataFrame(rank_list)\n",
    "        c_ax.legend()\n",
    "        c_ax.set_xlabel('False Positive Rate')\n",
    "        c_ax.set_ylabel('True Positive Rate')\n",
    "        fig.savefig('trained_net.png')\n",
    "        \n",
    "        path_rank_list = '{}_ciclo_{}_epocas_rank_list_DenseNet_121.csv'.format(ciclo,epocas)\n",
    "        rank_list.to_csv(path_rank_list)\n",
    "        \n",
    "        # upsampling da base de treinamento para depois testar com X epocas novamente\n",
    "        train_df = upsampling(train_df,2,rank_list,14)\n",
    "        train_df.shape\n",
    "\n",
    "        path_rank_list = '{}_ciclo_{}_epocas_rank_list_DenseNet_121.csv'.format(ciclo,epocas)\n",
    "        rank_list.to_csv(path_rank_list)\n",
    "\n",
    "        # Baixar imagens após primeiro upsampling e depois de 5 épocas\n",
    "        custom_print('Carregamento Imagens: início')\n",
    "        train_gen = importar_imagens_treinamento_apenas(train_df)\n",
    "        custom_print('Carregamento Imagens: fim')\n",
    "        ciclo+=1\n",
    "    return multi_disease_model, train_gen"
   ]
  },
  {
   "cell_type": "code",
   "execution_count": 27,
   "metadata": {
    "execution": {
     "iopub.execute_input": "2020-11-29T23:48:05.697199Z",
     "iopub.status.busy": "2020-11-29T23:48:05.696439Z",
     "iopub.status.idle": "2020-11-29T23:48:05.700201Z",
     "shell.execute_reply": "2020-11-29T23:48:05.699715Z"
    },
    "papermill": {
     "duration": 0.057064,
     "end_time": "2020-11-29T23:48:05.700311",
     "exception": false,
     "start_time": "2020-11-29T23:48:05.643247",
     "status": "completed"
    },
    "tags": []
   },
   "outputs": [],
   "source": [
    "# Caso eu tenha os modelos .hdf5 salvos, porém, o Kaggle interrompeu a sessão do notebook\n",
    "# Preciso dar commit manualmente no notebook apertando o botão Save Version acima/direita\n",
    "def recuperar_train_gen_para_continuar_ciclo(ciclo,epocas,versao_modelo,train_df):\n",
    "    for i in range(ciclo):\n",
    "        nome_modelo_path = \"/kaggle/input/modelos-de-5-epocas-2-ciclos/{}_ciclo_{}_epocas_{}_versao_modelo_DenseNet_121.hdf5\".format(i,epocas,versao_modelo)\n",
    "        multi_disease_model = load_model(nome_modelo_path)\n",
    "\n",
    "        # preve com a base de testes e gera a curva ROC\n",
    "        pred_Y = multi_disease_model.predict(test_X, batch_size = 32, verbose = True)\n",
    "\n",
    "        rank_list = []\n",
    "        for (idx, c_label) in enumerate(all_labels):\n",
    "            fpr, tpr, thresholds = roc_curve(test_Y[:,idx].astype(int), pred_Y[:,idx])\n",
    "            rank_list.append([c_label,auc(fpr, tpr)])\n",
    "        rank_list = pd.DataFrame(rank_list)\n",
    "        train_df = upsampling(train_df,2,rank_list,14)\n",
    "    # Baixar imagens após primeiro upsampling e depois de 5 épocas\n",
    "    custom_print('Carregamento Imagens: início')\n",
    "    train_gen = importar_imagens_treinamento_apenas(train_df)\n",
    "    custom_print('Carregamento Imagens: fim')\n",
    "    return train_gen"
   ]
  },
  {
   "cell_type": "markdown",
   "metadata": {
    "papermill": {
     "duration": 0.038397,
     "end_time": "2020-11-29T23:48:05.777653",
     "exception": false,
     "start_time": "2020-11-29T23:48:05.739256",
     "status": "completed"
    },
    "tags": []
   },
   "source": [
    "# **Resultados!**"
   ]
  },
  {
   "cell_type": "code",
   "execution_count": null,
   "metadata": {
    "papermill": {
     "duration": 0.037054,
     "end_time": "2020-11-29T23:48:05.852500",
     "exception": false,
     "start_time": "2020-11-29T23:48:05.815446",
     "status": "completed"
    },
    "tags": []
   },
   "outputs": [],
   "source": []
  },
  {
   "cell_type": "code",
   "execution_count": 28,
   "metadata": {
    "execution": {
     "iopub.execute_input": "2020-11-29T23:48:05.933998Z",
     "iopub.status.busy": "2020-11-29T23:48:05.933195Z",
     "iopub.status.idle": "2020-11-29T23:48:05.942174Z",
     "shell.execute_reply": "2020-11-29T23:48:05.943141Z"
    },
    "papermill": {
     "duration": 0.053821,
     "end_time": "2020-11-29T23:48:05.943316",
     "exception": false,
     "start_time": "2020-11-29T23:48:05.889495",
     "status": "completed"
    },
    "tags": []
   },
   "outputs": [],
   "source": [
    "# multi_disease_model = VGG16_parameter((128, 128, 1)) "
   ]
  },
  {
   "cell_type": "code",
   "execution_count": 29,
   "metadata": {
    "execution": {
     "iopub.execute_input": "2020-11-29T23:48:06.022717Z",
     "iopub.status.busy": "2020-11-29T23:48:06.022098Z",
     "iopub.status.idle": "2020-11-29T23:48:06.026240Z",
     "shell.execute_reply": "2020-11-29T23:48:06.025741Z"
    },
    "papermill": {
     "duration": 0.044778,
     "end_time": "2020-11-29T23:48:06.026388",
     "exception": false,
     "start_time": "2020-11-29T23:48:05.981610",
     "status": "completed"
    },
    "tags": []
   },
   "outputs": [],
   "source": [
    "# # fit model - 1 época\n",
    "# custom_print('Treinamento iniciado')\n",
    "# multi_disease_model.fit_generator(train_gen,\n",
    "#                                   steps_per_epoch = train_df.shape[0] //train_gen.batch_size,\n",
    "#                                   validation_data =  valid_gen, \n",
    "#                                   epochs = 5, \n",
    "#                                   callbacks = callbacks_list)\n",
    "# custom_print('Treinamento terminado')"
   ]
  },
  {
   "cell_type": "code",
   "execution_count": 30,
   "metadata": {
    "execution": {
     "iopub.execute_input": "2020-11-29T23:48:06.107705Z",
     "iopub.status.busy": "2020-11-29T23:48:06.105944Z",
     "iopub.status.idle": "2020-11-29T23:48:06.108481Z",
     "shell.execute_reply": "2020-11-29T23:48:06.108956Z"
    },
    "papermill": {
     "duration": 0.045154,
     "end_time": "2020-11-29T23:48:06.109072",
     "exception": false,
     "start_time": "2020-11-29T23:48:06.063918",
     "status": "completed"
    },
    "tags": []
   },
   "outputs": [],
   "source": [
    "# # load the best model\n",
    "# pred_Y = multi_disease_model.predict(test_X, batch_size = 32, verbose = True)\n",
    "\n",
    "# fig, c_ax = plt.subplots(1,1, figsize = (9, 9))\n",
    "# rank_list = []\n",
    "# for (idx, c_label) in enumerate(all_labels):\n",
    "#     fpr, tpr, thresholds = roc_curve(test_Y[:,idx].astype(int), pred_Y[:,idx])\n",
    "#     c_ax.plot(fpr, tpr, label = '%s (AUC:%0.2f)'  % (c_label, auc(fpr, tpr)))\n",
    "#     rank_list.append([c_label,auc(fpr, tpr)])\n",
    "# rank_list = pd.DataFrame(rank_list)\n",
    "# c_ax.legend()\n",
    "# c_ax.set_xlabel('False Positive Rate')\n",
    "# c_ax.set_ylabel('True Positive Rate')\n",
    "# fig.savefig('trained_net.png')"
   ]
  },
  {
   "cell_type": "code",
   "execution_count": 31,
   "metadata": {
    "execution": {
     "iopub.execute_input": "2020-11-29T23:48:06.187813Z",
     "iopub.status.busy": "2020-11-29T23:48:06.187176Z",
     "iopub.status.idle": "2020-11-29T23:48:06.190828Z",
     "shell.execute_reply": "2020-11-29T23:48:06.191315Z"
    },
    "papermill": {
     "duration": 0.044483,
     "end_time": "2020-11-29T23:48:06.191434",
     "exception": false,
     "start_time": "2020-11-29T23:48:06.146951",
     "status": "completed"
    },
    "tags": []
   },
   "outputs": [],
   "source": [
    "# path_rank_list = 'rank_list_5_epocas_VGG16.csv'\n",
    "# rank_list.to_csv(path_rank_list)"
   ]
  },
  {
   "cell_type": "markdown",
   "metadata": {
    "papermill": {
     "duration": 0.037656,
     "end_time": "2020-11-29T23:48:06.267247",
     "exception": false,
     "start_time": "2020-11-29T23:48:06.229591",
     "status": "completed"
    },
    "tags": []
   },
   "source": [
    "# **Densenet-121 (5 ciclos de upsampling + 5 épocas/treinamento)**"
   ]
  },
  {
   "cell_type": "code",
   "execution_count": 32,
   "metadata": {
    "execution": {
     "iopub.execute_input": "2020-11-29T23:48:06.347834Z",
     "iopub.status.busy": "2020-11-29T23:48:06.347174Z",
     "iopub.status.idle": "2020-11-29T23:48:06.350928Z",
     "shell.execute_reply": "2020-11-29T23:48:06.351397Z"
    },
    "papermill": {
     "duration": 0.046486,
     "end_time": "2020-11-29T23:48:06.351522",
     "exception": false,
     "start_time": "2020-11-29T23:48:06.305036",
     "status": "completed"
    },
    "tags": []
   },
   "outputs": [],
   "source": [
    "# multi_disease_model = Densenet_121_parameter((128, 128, 1))"
   ]
  },
  {
   "cell_type": "code",
   "execution_count": 33,
   "metadata": {
    "execution": {
     "iopub.execute_input": "2020-11-29T23:48:06.433005Z",
     "iopub.status.busy": "2020-11-29T23:48:06.431394Z",
     "iopub.status.idle": "2020-11-29T23:48:06.433737Z",
     "shell.execute_reply": "2020-11-29T23:48:06.434198Z"
    },
    "papermill": {
     "duration": 0.044567,
     "end_time": "2020-11-29T23:48:06.434336",
     "exception": false,
     "start_time": "2020-11-29T23:48:06.389769",
     "status": "completed"
    },
    "tags": []
   },
   "outputs": [],
   "source": [
    "# weight_path='densenet121_model.hdf5'\n",
    "# # checkpoint = ModelCheckpoint(weight_path, monitor='val_loss', verbose=1, \n",
    "# #                              save_best_only=True, mode='min', save_weights_only = True)\n",
    "# checkpoint = ModelCheckpoint(weight_path, monitor='val_loss', verbose=1, \n",
    "#                              mode='min', save_best_only = True, save_weights_only = False)\n",
    "\n",
    "# early = EarlyStopping(monitor=\"val_loss\", \n",
    "#                       mode=\"min\", \n",
    "#                       patience=3)\n",
    "# callbacks_list = [checkpoint, early]"
   ]
  },
  {
   "cell_type": "code",
   "execution_count": 34,
   "metadata": {
    "execution": {
     "iopub.execute_input": "2020-11-29T23:48:06.515780Z",
     "iopub.status.busy": "2020-11-29T23:48:06.514237Z",
     "iopub.status.idle": "2020-11-29T23:48:06.517250Z",
     "shell.execute_reply": "2020-11-29T23:48:06.516796Z"
    },
    "papermill": {
     "duration": 0.044968,
     "end_time": "2020-11-29T23:48:06.517368",
     "exception": false,
     "start_time": "2020-11-29T23:48:06.472400",
     "status": "completed"
    },
    "tags": []
   },
   "outputs": [],
   "source": [
    "# # 1ºciclo - 5 épocas - dados originais\n",
    "# custom_print('Treinamento iniciado')\n",
    "# multi_disease_model.fit_generator(train_gen,\n",
    "#                                   steps_per_epoch = train_df.shape[0] //train_gen.batch_size,\n",
    "#                                   validation_data =  valid_gen, \n",
    "#                                   epochs = 5, \n",
    "#                                   callbacks = callbacks_list)\n",
    "# custom_print('Treinamento terminado')"
   ]
  },
  {
   "cell_type": "code",
   "execution_count": 35,
   "metadata": {
    "execution": {
     "iopub.execute_input": "2020-11-29T23:48:06.598011Z",
     "iopub.status.busy": "2020-11-29T23:48:06.597436Z",
     "iopub.status.idle": "2020-11-29T23:48:06.601362Z",
     "shell.execute_reply": "2020-11-29T23:48:06.601909Z"
    },
    "papermill": {
     "duration": 0.046133,
     "end_time": "2020-11-29T23:48:06.602018",
     "exception": false,
     "start_time": "2020-11-29T23:48:06.555885",
     "status": "completed"
    },
    "tags": []
   },
   "outputs": [],
   "source": [
    "# pred_Y = multi_disease_model.predict(test_X, batch_size = 32, verbose = True)\n",
    "\n",
    "# fig, c_ax = plt.subplots(1,1, figsize = (9, 9))\n",
    "# rank_list = []\n",
    "# for (idx, c_label) in enumerate(all_labels):\n",
    "#     fpr, tpr, thresholds = roc_curve(test_Y[:,idx].astype(int), pred_Y[:,idx])\n",
    "#     c_ax.plot(fpr, tpr, label = '%s (AUC:%0.2f)'  % (c_label, auc(fpr, tpr)))\n",
    "#     rank_list.append([c_label,auc(fpr, tpr)])\n",
    "# rank_list = pd.DataFrame(rank_list)\n",
    "# c_ax.legend()\n",
    "# c_ax.set_xlabel('False Positive Rate')\n",
    "# c_ax.set_ylabel('True Positive Rate')\n",
    "# fig.savefig('trained_net.png')"
   ]
  },
  {
   "cell_type": "code",
   "execution_count": 36,
   "metadata": {
    "execution": {
     "iopub.execute_input": "2020-11-29T23:48:06.685872Z",
     "iopub.status.busy": "2020-11-29T23:48:06.684134Z",
     "iopub.status.idle": "2020-11-29T23:48:06.686730Z",
     "shell.execute_reply": "2020-11-29T23:48:06.687193Z"
    },
    "papermill": {
     "duration": 0.045141,
     "end_time": "2020-11-29T23:48:06.687325",
     "exception": false,
     "start_time": "2020-11-29T23:48:06.642184",
     "status": "completed"
    },
    "tags": []
   },
   "outputs": [],
   "source": [
    "# path_rank_list = 'rank_list_5_epocas_DenseNet121.csv'\n",
    "# rank_list.to_csv(path_rank_list)"
   ]
  },
  {
   "cell_type": "code",
   "execution_count": 37,
   "metadata": {
    "execution": {
     "iopub.execute_input": "2020-11-29T23:48:06.769766Z",
     "iopub.status.busy": "2020-11-29T23:48:06.769022Z",
     "iopub.status.idle": "2020-11-29T23:48:06.772964Z",
     "shell.execute_reply": "2020-11-29T23:48:06.772473Z"
    },
    "papermill": {
     "duration": 0.04587,
     "end_time": "2020-11-29T23:48:06.773055",
     "exception": false,
     "start_time": "2020-11-29T23:48:06.727185",
     "status": "completed"
    },
    "tags": []
   },
   "outputs": [],
   "source": [
    "# # 1o upsampling da base de treinamento para depois testar com 5 epocas novamente\n",
    "# train_df_5_1 = upsampling(train_df,2,rank_list,14)\n",
    "# train_df_5_1.shape"
   ]
  },
  {
   "cell_type": "code",
   "execution_count": 38,
   "metadata": {
    "execution": {
     "iopub.execute_input": "2020-11-29T23:48:06.855517Z",
     "iopub.status.busy": "2020-11-29T23:48:06.854108Z",
     "iopub.status.idle": "2020-11-29T23:48:06.857138Z",
     "shell.execute_reply": "2020-11-29T23:48:06.856687Z"
    },
    "papermill": {
     "duration": 0.045348,
     "end_time": "2020-11-29T23:48:06.857248",
     "exception": false,
     "start_time": "2020-11-29T23:48:06.811900",
     "status": "completed"
    },
    "tags": []
   },
   "outputs": [],
   "source": [
    "# # Baixar imagens após primeiro upsampling e depois de 5 épocas\n",
    "# custom_print('Carregamento Imagens: início')\n",
    "# train_gen_5_1 = importar_imagens_treinamento_apenas(train_df_5_1)\n",
    "# custom_print('Carregamento Imagens: fim')"
   ]
  },
  {
   "cell_type": "code",
   "execution_count": 39,
   "metadata": {
    "execution": {
     "iopub.execute_input": "2020-11-29T23:48:06.939695Z",
     "iopub.status.busy": "2020-11-29T23:48:06.939084Z",
     "iopub.status.idle": "2020-11-29T23:48:06.943110Z",
     "shell.execute_reply": "2020-11-29T23:48:06.942644Z"
    },
    "papermill": {
     "duration": 0.047137,
     "end_time": "2020-11-29T23:48:06.943202",
     "exception": false,
     "start_time": "2020-11-29T23:48:06.896065",
     "status": "completed"
    },
    "tags": []
   },
   "outputs": [],
   "source": [
    "# multi_disease_model_novo , train_gen_novo = rodar_todo_algoritmo(train_gen, valid_gen, test_X, test_Y, train_df, ciclos=5,epocas=10,versao_modelo=1)"
   ]
  },
  {
   "cell_type": "code",
   "execution_count": 40,
   "metadata": {
    "execution": {
     "iopub.execute_input": "2020-11-29T23:48:07.025433Z",
     "iopub.status.busy": "2020-11-29T23:48:07.024623Z",
     "iopub.status.idle": "2020-11-29T23:48:07.027839Z",
     "shell.execute_reply": "2020-11-29T23:48:07.027379Z"
    },
    "papermill": {
     "duration": 0.045556,
     "end_time": "2020-11-29T23:48:07.027933",
     "exception": false,
     "start_time": "2020-11-29T23:48:06.982377",
     "status": "completed"
    },
    "tags": []
   },
   "outputs": [],
   "source": [
    "# multi_disease_model_novo , train_gen_novo = rodar_todo_algoritmo(train_gen, valid_gen, test_X, test_Y, train_df, ciclos=2,epocas=5,versao_modelo=2)"
   ]
  },
  {
   "cell_type": "code",
   "execution_count": 41,
   "metadata": {
    "execution": {
     "iopub.execute_input": "2020-11-29T23:48:07.110615Z",
     "iopub.status.busy": "2020-11-29T23:48:07.109985Z",
     "iopub.status.idle": "2020-11-29T23:48:43.974903Z",
     "shell.execute_reply": "2020-11-29T23:48:43.975605Z"
    },
    "papermill": {
     "duration": 36.908353,
     "end_time": "2020-11-29T23:48:43.975756",
     "exception": false,
     "start_time": "2020-11-29T23:48:07.067403",
     "status": "completed"
    },
    "tags": []
   },
   "outputs": [
    {
     "name": "stdout",
     "output_type": "stream",
     "text": [
      "32/32 [==============================] - 2s 61ms/step\n",
      "label                | fator_k   | q_atualiz | q_orig    | valor_cal | qtd_final\n",
      "Edema                |      1.00 |   1720.00 |   1720.00 |      0.00 |      0.00\n",
      "Hernia               |      1.08 |    171.00 |    171.00 |     13.00 |     13.00\n",
      "Fibrosis             |      1.15 |   1285.00 |   1284.00 |    197.00 |    196.00\n",
      "Effusion             |      1.23 |  10013.00 |   9991.00 |   2310.00 |   2283.00\n",
      "Cardiomegaly         |      1.31 |   2276.00 |   2084.00 |    700.00 |    449.00\n",
      "Atelectasis          |      1.38 |   9345.00 |   8667.00 |   3594.00 |   2655.00\n",
      "Emphysema            |      1.46 |   2047.00 |   1870.00 |    944.00 |    686.00\n",
      "Consolidation        |      1.54 |   4072.00 |   3518.00 |   2192.00 |   1340.00\n",
      "Infiltration         |      1.62 |  17089.00 |  14968.00 |  10516.00 |   7090.00\n",
      "Mass                 |      1.69 |   5493.00 |   4343.00 |   3802.00 |   1856.00\n",
      "Pneumothorax         |      1.77 |   5129.00 |   3965.00 |   3945.00 |   1885.00\n",
      "Nodule               |      1.85 |   6231.00 |   4735.00 |   5272.00 |   2510.00\n",
      "Pleural_Thickening   |      1.92 |   3706.00 |   2534.00 |   3420.00 |   1167.00\n",
      "Pneumonia            |      2.00 |   1495.00 |   1059.00 |   1495.00 |    623.00\n",
      "32/32 [==============================] - 2s 62ms/step\n",
      "label                | fator_k   | q_atualiz | q_orig    | valor_cal | qtd_final\n",
      "Hernia               |      1.00 |    225.00 |    225.00 |      0.00 |      0.00\n",
      "Edema                |      1.08 |   2587.00 |   2587.00 |    198.00 |    198.00\n",
      "Emphysema            |      1.15 |   3590.00 |   3588.00 |    552.00 |    549.00\n",
      "Effusion             |      1.23 |  17897.00 |  17722.00 |   4130.00 |   3914.00\n",
      "Atelectasis          |      1.31 |  16949.00 |  15584.00 |   5215.00 |   3430.00\n",
      "Cardiomegaly         |      1.38 |   3969.00 |   3410.00 |   1526.00 |    752.00\n",
      "Fibrosis             |      1.46 |   2215.00 |   2020.00 |   1022.00 |    737.00\n",
      "Mass                 |      1.54 |   9379.00 |   8278.00 |   5050.00 |   3356.00\n",
      "Pneumothorax         |      1.62 |   8789.00 |   7376.00 |   5408.00 |   3126.00\n",
      "Consolidation        |      1.69 |   8869.00 |   6862.00 |   6140.00 |   2743.00\n",
      "Nodule               |      1.77 |  11422.00 |   8999.00 |   8786.00 |   4499.00\n",
      "Pleural_Thickening   |      1.85 |   7231.00 |   4899.00 |   6118.00 |   1813.00\n",
      "Infiltration         |      1.92 |  35281.00 |  26673.00 |  32567.00 |  16013.00\n",
      "Pneumonia            |      2.00 |   3375.00 |   2118.00 |   3375.00 |    861.00\n",
      "Dia 29 - 20:48:29 - Carregamento Imagens: início\n",
      "Found 103563 validated image filenames belonging to 14 classes.\n",
      "Dia 29 - 20:48:43 - Carregamento Imagens: fim\n"
     ]
    }
   ],
   "source": [
    "# Recuperar ultima base de treinamento rodada\n",
    "train_gen = recuperar_train_gen_para_continuar_ciclo(2,5,2,train_df)"
   ]
  },
  {
   "cell_type": "code",
   "execution_count": 42,
   "metadata": {
    "execution": {
     "iopub.execute_input": "2020-11-29T23:48:44.124045Z",
     "iopub.status.busy": "2020-11-29T23:48:44.123203Z",
     "iopub.status.idle": "2020-11-30T04:17:53.659477Z",
     "shell.execute_reply": "2020-11-30T04:17:53.660299Z"
    },
    "papermill": {
     "duration": 16149.614733,
     "end_time": "2020-11-30T04:17:53.660462",
     "exception": false,
     "start_time": "2020-11-29T23:48:44.045729",
     "status": "completed"
    },
    "tags": []
   },
   "outputs": [
    {
     "name": "stdout",
     "output_type": "stream",
     "text": [
      "##########################################\n",
      "##########################################\n",
      "Dia 29 - 20:48:48 - Ciclo 2 iniciado\n",
      "Dia 29 - 20:48:48 - Treinamento iniciado\n",
      "Epoch 1/5\n",
      "1213/1213 [==============================] - ETA: 0s - loss: 0.3972 - binary_accuracy: 0.8492 - mae: 0.1804\n",
      "Epoch 00001: val_loss improved from inf to 0.30986, saving model to 2_ciclo_5_epocas_2_versao_modelo_DenseNet_121.hdf5\n",
      "1213/1213 [==============================] - 1267s 1s/step - loss: 0.3972 - binary_accuracy: 0.8492 - mae: 0.1804 - val_loss: 0.3099 - val_binary_accuracy: 0.8881 - val_mae: 0.1528\n",
      "Epoch 2/5\n",
      "1213/1213 [==============================] - ETA: 0s - loss: 0.3961 - binary_accuracy: 0.8484 - mae: 0.1802\n",
      "Epoch 00002: val_loss improved from 0.30986 to 0.30973, saving model to 2_ciclo_5_epocas_2_versao_modelo_DenseNet_121.hdf5\n",
      "1213/1213 [==============================] - 1233s 1s/step - loss: 0.3961 - binary_accuracy: 0.8484 - mae: 0.1802 - val_loss: 0.3097 - val_binary_accuracy: 0.8881 - val_mae: 0.1534\n",
      "Epoch 3/5\n",
      "1213/1213 [==============================] - ETA: 0s - loss: 0.3903 - binary_accuracy: 0.8498 - mae: 0.1785\n",
      "Epoch 00003: val_loss improved from 0.30973 to 0.30875, saving model to 2_ciclo_5_epocas_2_versao_modelo_DenseNet_121.hdf5\n",
      "1213/1213 [==============================] - 1226s 1s/step - loss: 0.3903 - binary_accuracy: 0.8498 - mae: 0.1785 - val_loss: 0.3087 - val_binary_accuracy: 0.8881 - val_mae: 0.1513\n",
      "Epoch 4/5\n",
      "1213/1213 [==============================] - ETA: 0s - loss: 0.3913 - binary_accuracy: 0.8489 - mae: 0.1788\n",
      "Epoch 00004: val_loss improved from 0.30875 to 0.30704, saving model to 2_ciclo_5_epocas_2_versao_modelo_DenseNet_121.hdf5\n",
      "1213/1213 [==============================] - 1215s 1s/step - loss: 0.3913 - binary_accuracy: 0.8489 - mae: 0.1788 - val_loss: 0.3070 - val_binary_accuracy: 0.8881 - val_mae: 0.1515\n",
      "Epoch 5/5\n",
      "1213/1213 [==============================] - ETA: 0s - loss: 0.3916 - binary_accuracy: 0.8486 - mae: 0.1791\n",
      "Epoch 00005: val_loss did not improve from 0.30704\n",
      "1213/1213 [==============================] - 1244s 1s/step - loss: 0.3916 - binary_accuracy: 0.8486 - mae: 0.1791 - val_loss: 0.3093 - val_binary_accuracy: 0.8882 - val_mae: 0.1495\n",
      "Dia 30 - -2:32:4 - Treinamento terminado\n",
      "32/32 [==============================] - 2s 61ms/step\n",
      "label                | fator_k   | q_atualiz | q_orig    | valor_cal | qtd_final\n",
      "Hernia               |      1.00 |    171.00 |    171.00 |      0.00 |      0.00\n",
      "Edema                |      1.08 |   1720.00 |   1720.00 |    132.00 |    132.00\n",
      "Effusion             |      1.15 |  10029.00 |   9991.00 |   1542.00 |   1499.00\n",
      "Atelectasis          |      1.23 |   9056.00 |   8667.00 |   2089.00 |   1611.00\n",
      "Mass                 |      1.31 |   4594.00 |   4343.00 |   1413.00 |   1085.00\n",
      "Fibrosis             |      1.38 |   1380.00 |   1284.00 |    530.00 |    397.00\n",
      "Emphysema            |      1.46 |   2024.00 |   1870.00 |    934.00 |    709.00\n",
      "Cardiomegaly         |      1.54 |   2309.00 |   2084.00 |   1243.00 |    897.00\n",
      "Pneumonia            |      1.62 |   1189.00 |   1059.00 |    731.00 |    521.00\n",
      "Consolidation        |      1.69 |   4118.00 |   3518.00 |   2850.00 |   1835.00\n",
      "Pneumothorax         |      1.77 |   4617.00 |   3965.00 |   3551.00 |   2397.00\n",
      "Nodule               |      1.85 |   5631.00 |   4735.00 |   4764.00 |   3110.00\n",
      "Pleural_Thickening   |      1.92 |   3391.00 |   2534.00 |   3130.00 |   1482.00\n",
      "Infiltration         |      2.00 |  18928.00 |  14968.00 |  18928.00 |  11008.00\n",
      "Dia 30 - -2:32:11 - Carregamento Imagens: início\n",
      "Found 65502 validated image filenames belonging to 14 classes.\n",
      "Dia 30 - -2:32:22 - Carregamento Imagens: fim\n",
      "##########################################\n",
      "##########################################\n",
      "Dia 30 - -2:32:22 - Ciclo 3 iniciado\n",
      "Dia 30 - -2:32:22 - Treinamento iniciado\n",
      "Epoch 1/5\n",
      "2046/2046 [==============================] - ETA: 0s - loss: 0.3451 - binary_accuracy: 0.8705 - mae: 0.1621\n",
      "Epoch 00001: val_loss improved from inf to 0.31050, saving model to 3_ciclo_5_epocas_2_versao_modelo_DenseNet_121.hdf5\n",
      "2046/2046 [==============================] - 1906s 932ms/step - loss: 0.3451 - binary_accuracy: 0.8705 - mae: 0.1621 - val_loss: 0.3105 - val_binary_accuracy: 0.8882 - val_mae: 0.1478\n",
      "Epoch 2/5\n",
      "2046/2046 [==============================] - ETA: 0s - loss: 0.3442 - binary_accuracy: 0.8706 - mae: 0.1618\n",
      "Epoch 00002: val_loss improved from 0.31050 to 0.30244, saving model to 3_ciclo_5_epocas_2_versao_modelo_DenseNet_121.hdf5\n",
      "2046/2046 [==============================] - 2048s 1s/step - loss: 0.3442 - binary_accuracy: 0.8706 - mae: 0.1618 - val_loss: 0.3024 - val_binary_accuracy: 0.8881 - val_mae: 0.1493\n",
      "Epoch 3/5\n",
      "2046/2046 [==============================] - ETA: 0s - loss: 0.3431 - binary_accuracy: 0.8706 - mae: 0.1615\n",
      "Epoch 00003: val_loss did not improve from 0.30244\n",
      "2046/2046 [==============================] - 2057s 1s/step - loss: 0.3431 - binary_accuracy: 0.8706 - mae: 0.1615 - val_loss: 0.3072 - val_binary_accuracy: 0.8881 - val_mae: 0.1523\n",
      "Epoch 4/5\n",
      "2046/2046 [==============================] - ETA: 0s - loss: 0.3427 - binary_accuracy: 0.8706 - mae: 0.1613\n",
      "Epoch 00004: val_loss did not improve from 0.30244\n",
      "2046/2046 [==============================] - 2038s 996ms/step - loss: 0.3427 - binary_accuracy: 0.8706 - mae: 0.1613 - val_loss: 0.3052 - val_binary_accuracy: 0.8881 - val_mae: 0.1509\n",
      "Epoch 5/5\n",
      "2046/2046 [==============================] - ETA: 0s - loss: 0.3424 - binary_accuracy: 0.8707 - mae: 0.1612\n",
      "Epoch 00005: val_loss did not improve from 0.30244\n",
      "2046/2046 [==============================] - 1858s 908ms/step - loss: 0.3424 - binary_accuracy: 0.8707 - mae: 0.1612 - val_loss: 0.3037 - val_binary_accuracy: 0.8882 - val_mae: 0.1499\n",
      "Dia 30 - 1:17:37 - Treinamento terminado\n",
      "32/32 [==============================] - 2s 66ms/step\n",
      "label                | fator_k   | q_atualiz | q_orig    | valor_cal | qtd_final\n",
      "Hernia               |      1.00 |    209.00 |    209.00 |      0.00 |      0.00\n",
      "Edema                |      1.08 |   2987.00 |   2987.00 |    229.00 |    229.00\n",
      "Atelectasis          |      1.15 |  15175.00 |  15158.00 |   2334.00 |   2314.00\n",
      "Emphysema            |      1.23 |   3958.00 |   3824.00 |    913.00 |    748.00\n",
      "Effusion             |      1.31 |  18908.00 |  17895.00 |   5817.00 |   4493.00\n",
      "Fibrosis             |      1.38 |   2556.00 |   2370.00 |    983.00 |    725.00\n",
      "Cardiomegaly         |      1.46 |   4653.00 |   3982.00 |   2147.00 |   1166.00\n",
      "Mass                 |      1.54 |   9377.00 |   8209.00 |   5049.00 |   3252.00\n",
      "Pneumothorax         |      1.62 |   9863.00 |   8317.00 |   6069.00 |   3572.00\n",
      "Pneumonia            |      1.69 |   2668.00 |   2292.00 |   1847.00 |   1210.00\n",
      "Consolidation        |      1.77 |  10004.00 |   7660.00 |   7695.00 |   3548.00\n",
      "Nodule               |      1.85 |  13521.00 |  10418.00 |  11440.00 |   5712.00\n",
      "Pleural_Thickening   |      1.92 |   8347.00 |   5547.00 |   7704.00 |   2320.00\n",
      "Infiltration         |      2.00 |  41008.00 |  29936.00 |  41008.00 |  18864.00\n",
      "Dia 30 - 1:17:41 - Carregamento Imagens: início\n",
      "Found 113655 validated image filenames belonging to 14 classes.\n",
      "Dia 30 - 1:17:53 - Carregamento Imagens: fim\n"
     ]
    },
    {
     "data": {
      "image/png": "[encoded data removed]",
      "text/plain": [
       "<Figure size 648x648 with 1 Axes>"
      ]
     },
     "metadata": {
      "needs_background": "light"
     },
     "output_type": "display_data"
    },
    {
     "data": {
      "image/png": "[encoded data removed]",
      "text/plain": [
       "<Figure size 648x648 with 1 Axes>"
      ]
     },
     "metadata": {
      "needs_background": "light"
     },
     "output_type": "display_data"
    }
   ],
   "source": [
    "# rodar_todo_algoritmo(train_gen, valid_gen, test_X, test_Y, train_df, ciclos, epocas, versao_modelo, epoca_inicial = 0, path_modelo_rodado = None, ciclo=0):\n",
    "multi_disease_model_novo , train_gen_novo = rodar_todo_algoritmo(train_gen, valid_gen, test_X, test_Y, train_df, ciclos=4,epocas=5,versao_modelo=2,ciclo=2)"
   ]
  },
  {
   "cell_type": "code",
   "execution_count": null,
   "metadata": {
    "papermill": {
     "duration": 6.33857,
     "end_time": "2020-11-30T04:18:05.670021",
     "exception": false,
     "start_time": "2020-11-30T04:17:59.331451",
     "status": "completed"
    },
    "tags": []
   },
   "outputs": [],
   "source": []
  }
 ],
 "metadata": {
  "kernelspec": {
   "display_name": "Python 3",
   "language": "python",
   "name": "python3"
  },
  "language_info": {
   "codemirror_mode": {
    "name": "ipython",
    "version": 3
   },
   "file_extension": ".py",
   "mimetype": "text/x-python",
   "name": "python",
   "nbconvert_exporter": "python",
   "pygments_lexer": "ipython3",
   "version": "3.7.6"
  },
  "papermill": {
   "duration": 16334.415218,
   "end_time": "2020-11-30T04:18:13.176888",
   "environment_variables": {},
   "exception": null,
   "input_path": "__notebook__.ipynb",
   "output_path": "__notebook__.ipynb",
   "parameters": {},
   "start_time": "2020-11-29T23:45:58.761670",
   "version": "2.1.0"
  }
 },
 "nbformat": 4,
 "nbformat_minor": 4
}

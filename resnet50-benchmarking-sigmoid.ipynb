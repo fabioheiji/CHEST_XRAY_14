{
 "cells": [
  {
   "cell_type": "code",
   "execution_count": 1,
   "metadata": {
    "_cell_guid": "b1076dfc-b9ad-4769-8c92-a6c4dae69d19",
    "_uuid": "8f2839f25d086af736a60e9eeb907d3b93b6e0e5",
    "execution": {
     "iopub.execute_input": "2020-12-01T04:58:35.822449Z",
     "iopub.status.busy": "2020-12-01T04:58:35.821494Z",
     "iopub.status.idle": "2020-12-01T04:58:35.828524Z",
     "shell.execute_reply": "2020-12-01T04:58:35.829258Z"
    },
    "papermill": {
     "duration": 0.045915,
     "end_time": "2020-12-01T04:58:35.829458",
     "exception": false,
     "start_time": "2020-12-01T04:58:35.783543",
     "status": "completed"
    },
    "tags": []
   },
   "outputs": [],
   "source": [
    "# This Python 3 environment comes with many helpful analytics libraries installed\n",
    "# It is defined by the kaggle/python Docker image: https://github.com/kaggle/docker-python\n",
    "# For example, here's several helpful packages to load\n",
    "\n",
    "import numpy as np # linear algebra\n",
    "import pandas as pd # data processing, CSV file I/O (e.g. pd.read_csv)\n",
    "\n",
    "# Input data files are available in the read-only \"../input/\" directory\n",
    "# For example, running this (by clicking run or pressing Shift+Enter) will list all files under the input directory\n",
    "\n",
    "import os\n",
    "# for dirname, _, filenames in os.walk('/kaggle/input'):\n",
    "#     for filename in filenames:\n",
    "#         print(os.path.join(dirname, filename))\n",
    "\n",
    "# You can write up to 20GB to the current directory (/kaggle/working/) that gets preserved as output when you create a version using \"Save & Run All\" \n",
    "# You can also write temporary files to /kaggle/temp/, but they won't be saved outside of the current session"
   ]
  },
  {
   "cell_type": "code",
   "execution_count": 2,
   "metadata": {
    "_cell_guid": "79c7e3d0-c299-4dcb-8224-4455121ee9b0",
    "_uuid": "d629ff2d2480ee46fbb7e2d37f6b5fab8052498a",
    "execution": {
     "iopub.execute_input": "2020-12-01T04:58:35.884416Z",
     "iopub.status.busy": "2020-12-01T04:58:35.883497Z",
     "iopub.status.idle": "2020-12-01T04:58:41.672092Z",
     "shell.execute_reply": "2020-12-01T04:58:41.671420Z"
    },
    "papermill": {
     "duration": 5.819512,
     "end_time": "2020-12-01T04:58:41.672214",
     "exception": false,
     "start_time": "2020-12-01T04:58:35.852702",
     "status": "completed"
    },
    "tags": []
   },
   "outputs": [],
   "source": [
    "import numpy as np # linear algebra\n",
    "import pandas as pd # data processing, CSV file I/O (e.g. pd.read_csv)\n",
    "import os\n",
    "from glob import glob\n",
    "\n",
    "import matplotlib.pyplot as plt\n",
    "%matplotlib inline\n",
    "import re\n",
    "from sklearn.model_selection import train_test_split\n",
    "from keras.preprocessing.image import ImageDataGenerator\n",
    "from keras.callbacks import ModelCheckpoint, LearningRateScheduler, EarlyStopping, ReduceLROnPlateau\n",
    "import datetime\n",
    "import tensorflow as tf\n",
    "from tensorflow import keras\n",
    "from keras.models import Sequential\n",
    "from tensorflow.keras.layers import Input, Flatten, Dense, BatchNormalization, Activation, Dropout, GlobalAveragePooling2D, GlobalMaxPooling2D, Concatenate\n",
    "from sklearn.metrics import roc_curve, auc\n",
    "from sklearn.utils import resample\n",
    "from keras.models import Model, load_model"
   ]
  },
  {
   "cell_type": "code",
   "execution_count": 3,
   "metadata": {
    "execution": {
     "iopub.execute_input": "2020-12-01T04:58:41.721109Z",
     "iopub.status.busy": "2020-12-01T04:58:41.720144Z",
     "iopub.status.idle": "2020-12-01T04:58:41.722259Z",
     "shell.execute_reply": "2020-12-01T04:58:41.723359Z"
    },
    "papermill": {
     "duration": 0.036333,
     "end_time": "2020-12-01T04:58:41.723583",
     "exception": false,
     "start_time": "2020-12-01T04:58:41.687250",
     "status": "completed"
    },
    "tags": []
   },
   "outputs": [],
   "source": [
    "def custom_print(text):\n",
    "    now = datetime.datetime.now()\n",
    "    print('Dia {} - {}:{}:{} - {}'.format(now.day, now.hour-3, now.minute, now.second, text))"
   ]
  },
  {
   "cell_type": "code",
   "execution_count": 4,
   "metadata": {
    "execution": {
     "iopub.execute_input": "2020-12-01T04:58:41.782162Z",
     "iopub.status.busy": "2020-12-01T04:58:41.781216Z",
     "iopub.status.idle": "2020-12-01T04:58:42.502047Z",
     "shell.execute_reply": "2020-12-01T04:58:42.502709Z"
    },
    "papermill": {
     "duration": 0.75792,
     "end_time": "2020-12-01T04:58:42.502920",
     "exception": false,
     "start_time": "2020-12-01T04:58:41.745000",
     "status": "completed"
    },
    "tags": []
   },
   "outputs": [],
   "source": [
    "all_xray_df = pd.read_csv('/kaggle/input/all-xray-df-original/all_xray_df.csv')"
   ]
  },
  {
   "cell_type": "code",
   "execution_count": 5,
   "metadata": {
    "execution": {
     "iopub.execute_input": "2020-12-01T04:58:42.557331Z",
     "iopub.status.busy": "2020-12-01T04:58:42.552285Z",
     "iopub.status.idle": "2020-12-01T04:58:42.926452Z",
     "shell.execute_reply": "2020-12-01T04:58:42.927365Z"
    },
    "papermill": {
     "duration": 0.404307,
     "end_time": "2020-12-01T04:58:42.927582",
     "exception": false,
     "start_time": "2020-12-01T04:58:42.523275",
     "status": "completed"
    },
    "tags": []
   },
   "outputs": [],
   "source": [
    "all_xray_df['path'] = all_xray_df['path'].apply(lambda x: re.sub(r'/content/drive/My Drive/Colab Notebooks/ChestX-ray14/all_images_xray', '/kaggle/input/data', x))"
   ]
  },
  {
   "cell_type": "code",
   "execution_count": 6,
   "metadata": {
    "execution": {
     "iopub.execute_input": "2020-12-01T04:58:42.995129Z",
     "iopub.status.busy": "2020-12-01T04:58:42.993597Z",
     "iopub.status.idle": "2020-12-01T04:58:45.445007Z",
     "shell.execute_reply": "2020-12-01T04:58:45.444366Z"
    },
    "papermill": {
     "duration": 2.487995,
     "end_time": "2020-12-01T04:58:45.445123",
     "exception": false,
     "start_time": "2020-12-01T04:58:42.957128",
     "status": "completed"
    },
    "tags": []
   },
   "outputs": [],
   "source": [
    "# /kaggle/input/data/images_010/images/00022402_002.png\n",
    "# /content/drive/My Drive/Colab Notebooks/ChestX-ray14/all_images_xray/\n",
    "all_xray_df['path'] = all_xray_df['path'].apply(lambda x: re.sub(r'/images_001', '/images_001/images', x))\n",
    "all_xray_df['path'] = all_xray_df['path'].apply(lambda x: re.sub(r'/images_002', '/images_002/images', x))\n",
    "all_xray_df['path'] = all_xray_df['path'].apply(lambda x: re.sub(r'/images_003', '/images_003/images', x))\n",
    "all_xray_df['path'] = all_xray_df['path'].apply(lambda x: re.sub(r'/images_004', '/images_004/images', x))\n",
    "all_xray_df['path'] = all_xray_df['path'].apply(lambda x: re.sub(r'/images_005', '/images_005/images', x))\n",
    "all_xray_df['path'] = all_xray_df['path'].apply(lambda x: re.sub(r'/images_006', '/images_006/images', x))\n",
    "all_xray_df['path'] = all_xray_df['path'].apply(lambda x: re.sub(r'/images_007', '/images_007/images', x))\n",
    "all_xray_df['path'] = all_xray_df['path'].apply(lambda x: re.sub(r'/images_008', '/images_008/images', x))\n",
    "all_xray_df['path'] = all_xray_df['path'].apply(lambda x: re.sub(r'/images_009', '/images_009/images', x))\n",
    "all_xray_df['path'] = all_xray_df['path'].apply(lambda x: re.sub(r'/images_010', '/images_010/images', x))\n",
    "all_xray_df['path'] = all_xray_df['path'].apply(lambda x: re.sub(r'/images_011', '/images_011/images', x))\n",
    "all_xray_df['path'] = all_xray_df['path'].apply(lambda x: re.sub(r'/images_012', '/images_012/images', x))"
   ]
  },
  {
   "cell_type": "code",
   "execution_count": 7,
   "metadata": {
    "execution": {
     "iopub.execute_input": "2020-12-01T04:58:45.504475Z",
     "iopub.status.busy": "2020-12-01T04:58:45.499303Z",
     "iopub.status.idle": "2020-12-01T04:58:45.823359Z",
     "shell.execute_reply": "2020-12-01T04:58:45.824203Z"
    },
    "papermill": {
     "duration": 0.363613,
     "end_time": "2020-12-01T04:58:45.824401",
     "exception": false,
     "start_time": "2020-12-01T04:58:45.460788",
     "status": "completed"
    },
    "tags": []
   },
   "outputs": [
    {
     "name": "stdout",
     "output_type": "stream",
     "text": [
      "All Labels (14): ['Atelectasis', 'Cardiomegaly', 'Consolidation', 'Edema', 'Effusion', 'Emphysema', 'Fibrosis', 'Hernia', 'Infiltration', 'Mass', 'Nodule', 'Pleural_Thickening', 'Pneumonia', 'Pneumothorax']\n"
     ]
    }
   ],
   "source": [
    "# Substituir as labels com valor 'No Finding' em ''\n",
    "all_xray_df['Finding Labels'] = all_xray_df['Finding Labels'].map(lambda x: x.replace('No Finding', ''))\n",
    "from itertools import chain\n",
    "\n",
    "# Capturo apenas os valores únicos considerando os valores individuais de cada label separados entre si\n",
    "all_labels = np.unique(list(chain(*all_xray_df['Finding Labels'].map(lambda x: x.split('|')).tolist())))\n",
    "\n",
    "# atualizo a variável all_labels excluindo os valores vazios\n",
    "all_labels = [x for x in all_labels if len(x)>0]\n",
    "print('All Labels ({}): {}'.format(len(all_labels), all_labels))"
   ]
  },
  {
   "cell_type": "code",
   "execution_count": 8,
   "metadata": {
    "execution": {
     "iopub.execute_input": "2020-12-01T04:58:45.879142Z",
     "iopub.status.busy": "2020-12-01T04:58:45.878313Z",
     "iopub.status.idle": "2020-12-01T04:58:46.912961Z",
     "shell.execute_reply": "2020-12-01T04:58:46.912332Z"
    },
    "papermill": {
     "duration": 1.064708,
     "end_time": "2020-12-01T04:58:46.913127",
     "exception": false,
     "start_time": "2020-12-01T04:58:45.848419",
     "status": "completed"
    },
    "tags": []
   },
   "outputs": [],
   "source": [
    "# Crio as colunas adicionais ao df\n",
    "# cada coluna é uma doença descoberta no df all_labels\n",
    "# e para cada coluna, se o valor for 1 da respectiva linha, significa que aquele exemplo\n",
    "# tinha doença da respectiva coluna.\n",
    "for c_label in all_labels:\n",
    "    if len(c_label)>1: # deixar as labels \n",
    "        all_xray_df[c_label] = all_xray_df['Finding Labels'].map(lambda finding: 1.0 if c_label in finding else 0)\n",
    "\n",
    "all_xray_df_labels_detailed = all_xray_df[all_labels]"
   ]
  },
  {
   "cell_type": "code",
   "execution_count": 9,
   "metadata": {
    "execution": {
     "iopub.execute_input": "2020-12-01T04:58:46.953824Z",
     "iopub.status.busy": "2020-12-01T04:58:46.952854Z",
     "iopub.status.idle": "2020-12-01T04:59:49.075435Z",
     "shell.execute_reply": "2020-12-01T04:59:49.074816Z"
    },
    "papermill": {
     "duration": 62.145244,
     "end_time": "2020-12-01T04:59:49.075551",
     "exception": false,
     "start_time": "2020-12-01T04:58:46.930307",
     "status": "completed"
    },
    "tags": []
   },
   "outputs": [],
   "source": [
    "all_xray_df['disease_vector'] = all_xray_df.apply(lambda x: [x[all_labels].values], 1).map(lambda x: x[0])"
   ]
  },
  {
   "cell_type": "code",
   "execution_count": 10,
   "metadata": {
    "execution": {
     "iopub.execute_input": "2020-12-01T04:59:49.112718Z",
     "iopub.status.busy": "2020-12-01T04:59:49.111852Z",
     "iopub.status.idle": "2020-12-01T04:59:51.249117Z",
     "shell.execute_reply": "2020-12-01T04:59:51.248461Z"
    },
    "papermill": {
     "duration": 2.157751,
     "end_time": "2020-12-01T04:59:51.249234",
     "exception": false,
     "start_time": "2020-12-01T04:59:49.091483",
     "status": "completed"
    },
    "tags": []
   },
   "outputs": [],
   "source": [
    "all_xray_df['newLabel'] = all_xray_df.apply(lambda x: x['Finding Labels'].split('|'), axis=1)\n",
    "all_xray_df = all_xray_df[all_xray_df['Finding Labels'] != \"\"]"
   ]
  },
  {
   "cell_type": "code",
   "execution_count": 11,
   "metadata": {
    "execution": {
     "iopub.execute_input": "2020-12-01T04:59:51.290413Z",
     "iopub.status.busy": "2020-12-01T04:59:51.289466Z",
     "iopub.status.idle": "2020-12-01T04:59:56.172826Z",
     "shell.execute_reply": "2020-12-01T04:59:56.171546Z"
    },
    "papermill": {
     "duration": 4.90735,
     "end_time": "2020-12-01T04:59:56.172962",
     "exception": false,
     "start_time": "2020-12-01T04:59:51.265612",
     "status": "completed"
    },
    "tags": []
   },
   "outputs": [],
   "source": [
    "all_xray_df.to_csv('all_xray_df_path_kaggle.csv')"
   ]
  },
  {
   "cell_type": "code",
   "execution_count": 12,
   "metadata": {
    "execution": {
     "iopub.execute_input": "2020-12-01T04:59:56.221354Z",
     "iopub.status.busy": "2020-12-01T04:59:56.211103Z",
     "iopub.status.idle": "2020-12-01T04:59:56.367048Z",
     "shell.execute_reply": "2020-12-01T04:59:56.367624Z"
    },
    "papermill": {
     "duration": 0.178713,
     "end_time": "2020-12-01T04:59:56.367823",
     "exception": false,
     "start_time": "2020-12-01T04:59:56.189110",
     "status": "completed"
    },
    "tags": []
   },
   "outputs": [
    {
     "name": "stdout",
     "output_type": "stream",
     "text": [
      "train 38819 validation 12940\n"
     ]
    }
   ],
   "source": [
    "train_df, valid_df = train_test_split(all_xray_df, \n",
    "                                   test_size = 0.25,\n",
    "                                   random_state = 2018,\n",
    "                                   stratify = all_xray_df['Finding Labels'].map(lambda x: x[:4]))\n",
    "print('train', train_df.shape[0], 'validation', valid_df.shape[0])"
   ]
  },
  {
   "cell_type": "code",
   "execution_count": 13,
   "metadata": {
    "execution": {
     "iopub.execute_input": "2020-12-01T04:59:56.406884Z",
     "iopub.status.busy": "2020-12-01T04:59:56.405882Z",
     "iopub.status.idle": "2020-12-01T04:59:56.409307Z",
     "shell.execute_reply": "2020-12-01T04:59:56.408846Z"
    },
    "papermill": {
     "duration": 0.025242,
     "end_time": "2020-12-01T04:59:56.409401",
     "exception": false,
     "start_time": "2020-12-01T04:59:56.384159",
     "status": "completed"
    },
    "tags": []
   },
   "outputs": [],
   "source": [
    "IMG_SIZE = (250, 250)\n",
    "core_idg = ImageDataGenerator(samplewise_center=True, \n",
    "  samplewise_std_normalization=True, \n",
    "  horizontal_flip = True, \n",
    "  vertical_flip = False, \n",
    "  height_shift_range= 0.05, \n",
    "  width_shift_range=0.1, \n",
    "  rotation_range=5, \n",
    "  shear_range = 0.1,\n",
    "  fill_mode = 'reflect',\n",
    "  zoom_range=0.15\n",
    ")"
   ]
  },
  {
   "cell_type": "code",
   "execution_count": 14,
   "metadata": {
    "execution": {
     "iopub.execute_input": "2020-12-01T04:59:56.452211Z",
     "iopub.status.busy": "2020-12-01T04:59:56.451476Z",
     "iopub.status.idle": "2020-12-01T04:59:56.454094Z",
     "shell.execute_reply": "2020-12-01T04:59:56.454575Z"
    },
    "papermill": {
     "duration": 0.028791,
     "end_time": "2020-12-01T04:59:56.454680",
     "exception": false,
     "start_time": "2020-12-01T04:59:56.425889",
     "status": "completed"
    },
    "tags": []
   },
   "outputs": [],
   "source": [
    "def importar_imagens(train_df,valid_df):\n",
    "  train_gen = core_idg.flow_from_dataframe(dataframe=train_df, \n",
    "                              directory=None,\n",
    "                              x_col = 'path',\n",
    "                              y_col = 'newLabel', \n",
    "                              class_mode = 'categorical',\n",
    "                              classes = all_labels,\n",
    "                              target_size = IMG_SIZE,\n",
    "                              color_mode = 'grayscale',\n",
    "                              batch_size = 32,\n",
    "  )\n",
    "\n",
    "  valid_gen = core_idg.flow_from_dataframe(dataframe=valid_df, \n",
    "                              directory=None,\n",
    "                              x_col = 'path',\n",
    "                              y_col = 'newLabel', \n",
    "                              class_mode = 'categorical',\n",
    "                              classes = all_labels,\n",
    "                              target_size = IMG_SIZE,\n",
    "                              color_mode = 'grayscale',\n",
    "                              batch_size = 256,\n",
    "  )\n",
    "  test_X, test_Y = next(core_idg.flow_from_dataframe(dataframe=valid_df, \n",
    "                              directory=None,\n",
    "                              x_col = 'path',\n",
    "                              y_col = 'newLabel', \n",
    "                              class_mode = 'categorical',\n",
    "                              classes = all_labels,\n",
    "                              target_size = IMG_SIZE,\n",
    "                              color_mode = 'grayscale',\n",
    "                              batch_size = 1024,\n",
    "  ))\n",
    "\n",
    "  return train_gen, valid_gen, test_X, test_Y"
   ]
  },
  {
   "cell_type": "code",
   "execution_count": 15,
   "metadata": {
    "execution": {
     "iopub.execute_input": "2020-12-01T04:59:56.493623Z",
     "iopub.status.busy": "2020-12-01T04:59:56.492677Z",
     "iopub.status.idle": "2020-12-01T04:59:56.495128Z",
     "shell.execute_reply": "2020-12-01T04:59:56.495609Z"
    },
    "papermill": {
     "duration": 0.024769,
     "end_time": "2020-12-01T04:59:56.495713",
     "exception": false,
     "start_time": "2020-12-01T04:59:56.470944",
     "status": "completed"
    },
    "tags": []
   },
   "outputs": [],
   "source": [
    "def importar_imagens_treinamento_apenas(train_df):\n",
    "  train_gen = core_idg.flow_from_dataframe(dataframe=train_df, \n",
    "                              directory=None,\n",
    "                              x_col = 'path',\n",
    "                              y_col = 'newLabel', \n",
    "                              class_mode = 'categorical',\n",
    "                              classes = all_labels,\n",
    "                              target_size = IMG_SIZE,\n",
    "                              color_mode = 'grayscale',\n",
    "                              batch_size = 32,\n",
    "  )\n",
    "  return train_gen"
   ]
  },
  {
   "cell_type": "code",
   "execution_count": 16,
   "metadata": {
    "execution": {
     "iopub.execute_input": "2020-12-01T04:59:56.543005Z",
     "iopub.status.busy": "2020-12-01T04:59:56.542019Z",
     "iopub.status.idle": "2020-12-01T04:59:56.547446Z",
     "shell.execute_reply": "2020-12-01T04:59:56.546868Z"
    },
    "papermill": {
     "duration": 0.035259,
     "end_time": "2020-12-01T04:59:56.547536",
     "exception": false,
     "start_time": "2020-12-01T04:59:56.512277",
     "status": "completed"
    },
    "tags": []
   },
   "outputs": [],
   "source": [
    "# Funcao que aumenta amostra\n",
    "def upsampling(df, delta, rank_list, qtd_classes):\n",
    "    '''\n",
    "    df\n",
    "    df_fitrado_com_apenas_a_label = dataframe\n",
    "    delta do algoritmo de upsampling do artigo\n",
    "    rank_list = DataFrane com o rank com as labels do melhor AUC (primeiro) e pior AUC (último)\n",
    "    qtd_classes = inteiro\n",
    "    '''\n",
    "    try:\n",
    "        rank_list_upsampling = rank_list.sort_values(by=[1],ascending=False)\n",
    "    except:\n",
    "        rank_list_upsampling = rank_list.sort_values(by=['1'],ascending=False)\n",
    "\n",
    "    soma = 0\n",
    "    df_original = df.copy()\n",
    "    print(\"{:20} | {:9} | {:9} | {:9} | {:9} | {:9}\".format(\"label\",\"fator_k\", \"q_atualiz\", \"q_orig\", \"valor_cal\", \"qtd_final\"))\n",
    "    for i in range(qtd_classes):\n",
    "        df_fitrado_com_apenas_a_label_original = df_original[df_original[rank_list_upsampling[0].iloc[i]]==1]\n",
    "        df_fitrado_com_apenas_a_label_atualizado = df[df[rank_list_upsampling[0].iloc[i]]==1]\n",
    "    \n",
    "        pi_k = i+1\n",
    "        qtd = ((pi_k - 1)/(qtd_classes - 1))*(delta-1) + 1\n",
    "        qtd_atual_classe_original = df_fitrado_com_apenas_a_label_original.shape[0]\n",
    "        qtd_atual_classe_atualizado = df_fitrado_com_apenas_a_label_atualizado.shape[0]\n",
    "\n",
    "        diferenca = qtd_atual_classe_atualizado - qtd_atual_classe_original #Valor deveria ser maior ou igual a zero\n",
    "\n",
    "        # Se a diferença entre o valor resultante das atualizações com o valor original for maior\n",
    "        # que a o valor a ser adicionado pelo fator do artigo, então, não adiciono nada\n",
    "\n",
    "        if (diferenca > int((qtd - 1) * qtd_atual_classe_original)):\n",
    "            qtd_adicional = 0\n",
    "        else:\n",
    "            qtd_adicional = int((qtd - 1) * qtd_atual_classe_original) - diferenca\n",
    "\n",
    "        print(\"{:20} | {:9.2f} | {:9.2f} | {:9.2f} | {:9.2f} | {:9.2f}\".format(rank_list_upsampling[0].iloc[i], qtd, qtd_atual_classe_atualizado, qtd_atual_classe_original, int((qtd - 1) * qtd_atual_classe_atualizado), qtd_adicional))\n",
    "        df_upsampled = resample(\n",
    "            df_fitrado_com_apenas_a_label_atualizado,   # DataFrame com exemplos apenas daquela classe\n",
    "            replace=True,                               # sample with replacement\n",
    "            n_samples=qtd_adicional,                    # to match majority class\n",
    "            random_state=1                              # reproducible results\n",
    "        )\n",
    "        # Adiciono os exemplos gerados na nbase original\n",
    "        soma+=df_upsampled.shape[0]\n",
    "        df = df.append(df_upsampled)\n",
    "    return df"
   ]
  },
  {
   "cell_type": "code",
   "execution_count": 17,
   "metadata": {
    "execution": {
     "iopub.execute_input": "2020-12-01T04:59:56.588535Z",
     "iopub.status.busy": "2020-12-01T04:59:56.587723Z",
     "iopub.status.idle": "2020-12-01T04:59:56.590622Z",
     "shell.execute_reply": "2020-12-01T04:59:56.590156Z"
    },
    "papermill": {
     "duration": 0.026174,
     "end_time": "2020-12-01T04:59:56.590711",
     "exception": false,
     "start_time": "2020-12-01T04:59:56.564537",
     "status": "completed"
    },
    "tags": []
   },
   "outputs": [],
   "source": [
    "def ResNet50_parameter(shape):\n",
    "    base_model = tf.keras.applications.ResNet50(input_shape =  shape, \n",
    "                                  include_top = False,\n",
    "                                  weights=None,\n",
    "                                  )\n",
    "    base_model.trainable = False\n",
    "    multi_disease_model = Sequential()\n",
    "    multi_disease_model.add(base_model)\n",
    "    multi_disease_model.add(Flatten())\n",
    "    multi_disease_model.add(Dense(14,activation='sigmoid'))\n",
    "    multi_disease_model.compile(optimizer = 'adam', loss = 'binary_crossentropy',\n",
    "                            metrics = ['binary_accuracy', 'mae'])\n",
    "    return multi_disease_model"
   ]
  },
  {
   "cell_type": "code",
   "execution_count": 18,
   "metadata": {
    "execution": {
     "iopub.execute_input": "2020-12-01T04:59:56.630919Z",
     "iopub.status.busy": "2020-12-01T04:59:56.630006Z",
     "iopub.status.idle": "2020-12-01T05:00:32.212238Z",
     "shell.execute_reply": "2020-12-01T05:00:32.210896Z"
    },
    "papermill": {
     "duration": 35.604999,
     "end_time": "2020-12-01T05:00:32.212469",
     "exception": false,
     "start_time": "2020-12-01T04:59:56.607470",
     "status": "completed"
    },
    "tags": []
   },
   "outputs": [
    {
     "name": "stdout",
     "output_type": "stream",
     "text": [
      "Dia 1 - 1:59:56 - Carregamento Imagens: início\n",
      "Found 38819 validated image filenames belonging to 14 classes.\n",
      "Found 12940 validated image filenames belonging to 14 classes.\n",
      "Found 12940 validated image filenames belonging to 14 classes.\n",
      "Dia 1 - 2:0:32 - Carregamento Imagens: fim\n"
     ]
    }
   ],
   "source": [
    "# Baixar imagens\n",
    "custom_print('Carregamento Imagens: início')\n",
    "train_gen, valid_gen, test_X, test_Y = importar_imagens(train_df,valid_df)\n",
    "custom_print('Carregamento Imagens: fim')"
   ]
  },
  {
   "cell_type": "code",
   "execution_count": 19,
   "metadata": {
    "execution": {
     "iopub.execute_input": "2020-12-01T05:00:32.291728Z",
     "iopub.status.busy": "2020-12-01T05:00:32.290183Z",
     "iopub.status.idle": "2020-12-01T05:00:32.292868Z",
     "shell.execute_reply": "2020-12-01T05:00:32.293359Z"
    },
    "papermill": {
     "duration": 0.047566,
     "end_time": "2020-12-01T05:00:32.293478",
     "exception": false,
     "start_time": "2020-12-01T05:00:32.245912",
     "status": "completed"
    },
    "tags": []
   },
   "outputs": [],
   "source": [
    "'''\n",
    "Algoritmo inteiro numa função:\n",
    "1 - input: train_gen, valid_gen, test_X, test_Y,ciclos,epocas\n",
    "2 - output: modelo treinado depois de vários ciclos e épocas & último train_gen\n",
    "\n",
    "'''\n",
    "\n",
    "def rodar_todo_algoritmo(train_gen, valid_gen, test_X, test_Y, train_df, ciclos, epocas, versao_modelo, epoca_inicial = 0, path_modelo_rodado = None, ciclo=0):\n",
    "    if (path_modelo_rodado != None):\n",
    "        multi_disease_model = load_model(path_modelo_rodado)\n",
    "    else:\n",
    "        multi_disease_model = ResNet50_parameter((250,250,1))\n",
    "    \n",
    "#     for ciclo in range(ciclos):\n",
    "    while (ciclo < ciclos):\n",
    "        print('##########################################')\n",
    "        print('##########################################')\n",
    "        custom_print('Ciclo {} iniciado'.format(ciclo))\n",
    "        nome_modelo_path = \"{}_ciclo_{}_epocas_{}_versao_modelo_ResNet50.hdf5\".format(ciclo,epocas,versao_modelo)\n",
    "        checkpoint = ModelCheckpoint(nome_modelo_path, monitor='val_loss', verbose=1, mode='min', save_best_only = True, save_weights_only = False)\n",
    "        early = EarlyStopping(monitor=\"val_loss\", mode=\"min\", patience=3)\n",
    "        callbacks_list = [checkpoint, early]\n",
    "        \n",
    "        custom_print('Treinamento iniciado')\n",
    "        if (ciclo == 0 & epoca_inicial > 0):            \n",
    "            multi_disease_model.fit_generator(train_gen,\n",
    "                                              steps_per_epoch = train_df.shape[0] //train_gen.batch_size,\n",
    "                                              validation_data =  valid_gen, \n",
    "                                              epochs = epocas, \n",
    "                                              callbacks = callbacks_list,\n",
    "                                              initial_epoch = epoca_inicial)\n",
    "        else:\n",
    "            multi_disease_model.fit_generator(train_gen,\n",
    "                                              steps_per_epoch = train_df.shape[0] //train_gen.batch_size,\n",
    "                                              validation_data =  valid_gen, \n",
    "                                              epochs = epocas, \n",
    "                                              callbacks = callbacks_list)\n",
    "            \n",
    "        custom_print('Treinamento terminado')\n",
    "\n",
    "        # preve com a base de testes e gera a curva ROC\n",
    "        pred_Y = multi_disease_model.predict(test_X, batch_size = 32, verbose = True)\n",
    "\n",
    "        fig, c_ax = plt.subplots(1,1, figsize = (9, 9))\n",
    "        rank_list = []\n",
    "        for (idx, c_label) in enumerate(all_labels):\n",
    "            fpr, tpr, thresholds = roc_curve(test_Y[:,idx].astype(int), pred_Y[:,idx])\n",
    "            c_ax.plot(fpr, tpr, label = '%s (AUC:%0.2f)'  % (c_label, auc(fpr, tpr)))\n",
    "            rank_list.append([c_label,auc(fpr, tpr)])\n",
    "        rank_list = pd.DataFrame(rank_list)\n",
    "        c_ax.legend()\n",
    "        c_ax.set_xlabel('False Positive Rate')\n",
    "        c_ax.set_ylabel('True Positive Rate')\n",
    "        fig.savefig('trained_net.png')\n",
    "        \n",
    "        path_rank_list = '{}_ciclo_{}_epocas_rank_list_ResNet50.csv'.format(ciclo,epocas)\n",
    "        rank_list.to_csv(path_rank_list)\n",
    "        \n",
    "        # upsampling da base de treinamento para depois testar com X epocas novamente\n",
    "        train_df = upsampling(train_df,2,rank_list,14)\n",
    "        \n",
    "        # misturo os dados\n",
    "        train_df = train_df.sample(frac=1,random_state=1).reset_index(drop=True)\n",
    "        \n",
    "        train_df.shape\n",
    "\n",
    "        path_rank_list = '{}_ciclo_{}_epocas_rank_list_ResNet50.csv'.format(ciclo,epocas)\n",
    "        rank_list.to_csv(path_rank_list)\n",
    "\n",
    "        # Baixar imagens após primeiro upsampling e depois de 5 épocas\n",
    "        custom_print('Carregamento Imagens: início')\n",
    "        train_gen = importar_imagens_treinamento_apenas(train_df)\n",
    "        custom_print('Carregamento Imagens: fim')\n",
    "        ciclo+=1\n",
    "    return multi_disease_model, train_gen"
   ]
  },
  {
   "cell_type": "code",
   "execution_count": 20,
   "metadata": {
    "execution": {
     "iopub.execute_input": "2020-12-01T05:00:32.339728Z",
     "iopub.status.busy": "2020-12-01T05:00:32.339152Z",
     "iopub.status.idle": "2020-12-01T06:49:35.433739Z",
     "shell.execute_reply": "2020-12-01T06:49:35.434285Z"
    },
    "papermill": {
     "duration": 6543.121648,
     "end_time": "2020-12-01T06:49:35.434494",
     "exception": false,
     "start_time": "2020-12-01T05:00:32.312846",
     "status": "completed"
    },
    "tags": []
   },
   "outputs": [
    {
     "name": "stdout",
     "output_type": "stream",
     "text": [
      "##########################################\n",
      "##########################################\n",
      "Dia 1 - 2:0:37 - Ciclo 0 iniciado\n",
      "Dia 1 - 2:0:37 - Treinamento iniciado\n",
      "Epoch 1/5\n",
      "1213/1213 [==============================] - ETA: 0s - loss: 0.3185 - binary_accuracy: 0.8839 - mae: 0.1735\n",
      "Epoch 00001: val_loss improved from inf to 0.31285, saving model to 0_ciclo_5_epocas_1_versao_modelo_ResNet50.hdf5\n",
      "1213/1213 [==============================] - 1219s 1s/step - loss: 0.3185 - binary_accuracy: 0.8839 - mae: 0.1735 - val_loss: 0.3129 - val_binary_accuracy: 0.8815 - val_mae: 0.1706\n",
      "Epoch 2/5\n",
      "1213/1213 [==============================] - ETA: 0s - loss: 0.3165 - binary_accuracy: 0.8837 - mae: 0.1718\n",
      "Epoch 00002: val_loss improved from 0.31285 to 0.30344, saving model to 0_ciclo_5_epocas_1_versao_modelo_ResNet50.hdf5\n",
      "1213/1213 [==============================] - 1391s 1s/step - loss: 0.3165 - binary_accuracy: 0.8837 - mae: 0.1718 - val_loss: 0.3034 - val_binary_accuracy: 0.8848 - val_mae: 0.1725\n",
      "Epoch 3/5\n",
      "1213/1213 [==============================] - ETA: 0s - loss: 0.3142 - binary_accuracy: 0.8843 - mae: 0.1712\n",
      "Epoch 00003: val_loss did not improve from 0.30344\n",
      "1213/1213 [==============================] - 1308s 1s/step - loss: 0.3142 - binary_accuracy: 0.8843 - mae: 0.1712 - val_loss: 0.3173 - val_binary_accuracy: 0.8874 - val_mae: 0.1593\n",
      "Epoch 4/5\n",
      "1213/1213 [==============================] - ETA: 0s - loss: 0.3150 - binary_accuracy: 0.8833 - mae: 0.1710\n",
      "Epoch 00004: val_loss did not improve from 0.30344\n",
      "1213/1213 [==============================] - 1235s 1s/step - loss: 0.3150 - binary_accuracy: 0.8833 - mae: 0.1710 - val_loss: 0.3335 - val_binary_accuracy: 0.8837 - val_mae: 0.1840\n",
      "Epoch 5/5\n",
      "1213/1213 [==============================] - ETA: 0s - loss: 0.3130 - binary_accuracy: 0.8840 - mae: 0.1706\n",
      "Epoch 00005: val_loss did not improve from 0.30344\n",
      "1213/1213 [==============================] - 1356s 1s/step - loss: 0.3130 - binary_accuracy: 0.8840 - mae: 0.1706 - val_loss: 0.3089 - val_binary_accuracy: 0.8886 - val_mae: 0.1545\n",
      "Dia 1 - 3:49:19 - Treinamento terminado\n",
      "32/32 [==============================] - 2s 64ms/step\n",
      "label                | fator_k   | q_atualiz | q_orig    | valor_cal | qtd_final\n",
      "Hernia               |      1.00 |    171.00 |    171.00 |      0.00 |      0.00\n",
      "Fibrosis             |      1.08 |   1284.00 |   1284.00 |     98.00 |     98.00\n",
      "Edema                |      1.15 |   1722.00 |   1720.00 |    264.00 |    262.00\n",
      "Cardiomegaly         |      1.23 |   2104.00 |   2084.00 |    485.00 |    460.00\n",
      "Atelectasis          |      1.31 |   8778.00 |   8667.00 |   2700.00 |   2555.00\n",
      "Pneumothorax         |      1.38 |   4141.00 |   3965.00 |   1592.00 |   1348.00\n",
      "Emphysema            |      1.46 |   2173.00 |   1870.00 |   1002.00 |    560.00\n",
      "Effusion             |      1.54 |  11337.00 |   9991.00 |   6104.00 |   4033.00\n",
      "Mass                 |      1.62 |   5114.00 |   4343.00 |   3147.00 |   1901.00\n",
      "Pleural_Thickening   |      1.69 |   3202.00 |   2534.00 |   2216.00 |   1086.00\n",
      "Infiltration         |      1.77 |  18228.00 |  14968.00 |  14021.00 |   8253.00\n",
      "Consolidation        |      1.85 |   5210.00 |   3518.00 |   4408.00 |   1284.00\n",
      "Nodule               |      1.92 |   6578.00 |   4735.00 |   6072.00 |   2527.00\n",
      "Pneumonia            |      2.00 |   1626.00 |   1059.00 |   1626.00 |    492.00\n",
      "Dia 1 - 3:49:23 - Carregamento Imagens: início\n",
      "Found 63678 validated image filenames belonging to 14 classes.\n",
      "Dia 1 - 3:49:35 - Carregamento Imagens: fim\n"
     ]
    },
    {
     "data": {
      "image/png": "[encoded data removed]",
      "text/plain": [
       "<Figure size 648x648 with 1 Axes>"
      ]
     },
     "metadata": {
      "needs_background": "light"
     },
     "output_type": "display_data"
    }
   ],
   "source": [
    "multi_disease_model_novo , train_gen_novo = rodar_todo_algoritmo(train_gen, valid_gen, test_X, test_Y, train_df, ciclos=1,epocas=5,versao_modelo=1)"
   ]
  }
 ],
 "metadata": {
  "kernelspec": {
   "display_name": "Python 3",
   "language": "python",
   "name": "python3"
  },
  "language_info": {
   "codemirror_mode": {
    "name": "ipython",
    "version": 3
   },
   "file_extension": ".py",
   "mimetype": "text/x-python",
   "name": "python",
   "nbconvert_exporter": "python",
   "pygments_lexer": "ipython3",
   "version": "3.7.6"
  },
  "papermill": {
   "duration": 6668.734632,
   "end_time": "2020-12-01T06:49:40.304895",
   "environment_variables": {},
   "exception": null,
   "input_path": "__notebook__.ipynb",
   "output_path": "__notebook__.ipynb",
   "parameters": {},
   "start_time": "2020-12-01T04:58:31.570263",
   "version": "2.1.0"
  }
 },
 "nbformat": 4,
 "nbformat_minor": 4
}

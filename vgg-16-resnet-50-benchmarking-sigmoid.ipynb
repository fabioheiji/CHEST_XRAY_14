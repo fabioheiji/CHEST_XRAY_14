{
 "cells": [
  {
   "cell_type": "code",
   "execution_count": 1,
   "metadata": {
    "_cell_guid": "b1076dfc-b9ad-4769-8c92-a6c4dae69d19",
    "_uuid": "8f2839f25d086af736a60e9eeb907d3b93b6e0e5",
    "execution": {
     "iopub.execute_input": "2020-12-01T02:08:42.183880Z",
     "iopub.status.busy": "2020-12-01T02:08:42.182869Z",
     "iopub.status.idle": "2020-12-01T02:08:42.185431Z",
     "shell.execute_reply": "2020-12-01T02:08:42.185988Z"
    },
    "papermill": {
     "duration": 0.027104,
     "end_time": "2020-12-01T02:08:42.186131",
     "exception": false,
     "start_time": "2020-12-01T02:08:42.159027",
     "status": "completed"
    },
    "tags": []
   },
   "outputs": [],
   "source": [
    "# This Python 3 environment comes with many helpful analytics libraries installed\n",
    "# It is defined by the kaggle/python Docker image: https://github.com/kaggle/docker-python\n",
    "# For example, here's several helpful packages to load\n",
    "\n",
    "import numpy as np # linear algebra\n",
    "import pandas as pd # data processing, CSV file I/O (e.g. pd.read_csv)\n",
    "\n",
    "# Input data files are available in the read-only \"../input/\" directory\n",
    "# For example, running this (by clicking run or pressing Shift+Enter) will list all files under the input directory\n",
    "\n",
    "import os\n",
    "# for dirname, _, filenames in os.walk('/kaggle/input'):\n",
    "#     for filename in filenames:\n",
    "#         print(os.path.join(dirname, filename))\n",
    "\n",
    "# You can write up to 20GB to the current directory (/kaggle/working/) that gets preserved as output when you create a version using \"Save & Run All\" \n",
    "# You can also write temporary files to /kaggle/temp/, but they won't be saved outside of the current session"
   ]
  },
  {
   "cell_type": "code",
   "execution_count": 2,
   "metadata": {
    "_cell_guid": "79c7e3d0-c299-4dcb-8224-4455121ee9b0",
    "_uuid": "d629ff2d2480ee46fbb7e2d37f6b5fab8052498a",
    "execution": {
     "iopub.execute_input": "2020-12-01T02:08:42.232841Z",
     "iopub.status.busy": "2020-12-01T02:08:42.232089Z",
     "iopub.status.idle": "2020-12-01T02:08:48.594133Z",
     "shell.execute_reply": "2020-12-01T02:08:48.593242Z"
    },
    "papermill": {
     "duration": 6.391435,
     "end_time": "2020-12-01T02:08:48.594304",
     "exception": false,
     "start_time": "2020-12-01T02:08:42.202869",
     "status": "completed"
    },
    "tags": []
   },
   "outputs": [],
   "source": [
    "import numpy as np # linear algebra\n",
    "import pandas as pd # data processing, CSV file I/O (e.g. pd.read_csv)\n",
    "import os\n",
    "from glob import glob\n",
    "\n",
    "import matplotlib.pyplot as plt\n",
    "%matplotlib inline\n",
    "import re\n",
    "from sklearn.model_selection import train_test_split\n",
    "from keras.preprocessing.image import ImageDataGenerator\n",
    "from keras.callbacks import ModelCheckpoint, LearningRateScheduler, EarlyStopping, ReduceLROnPlateau\n",
    "import datetime\n",
    "import tensorflow as tf\n",
    "from tensorflow import keras\n",
    "from keras.models import Sequential\n",
    "from tensorflow.keras.layers import Input, Flatten, Dense, BatchNormalization, Activation, Dropout, GlobalAveragePooling2D, GlobalMaxPooling2D, Concatenate\n",
    "from sklearn.metrics import roc_curve, auc\n",
    "from sklearn.utils import resample\n",
    "from keras.models import Model, load_model"
   ]
  },
  {
   "cell_type": "code",
   "execution_count": 3,
   "metadata": {
    "execution": {
     "iopub.execute_input": "2020-12-01T02:08:48.652888Z",
     "iopub.status.busy": "2020-12-01T02:08:48.651977Z",
     "iopub.status.idle": "2020-12-01T02:08:48.657304Z",
     "shell.execute_reply": "2020-12-01T02:08:48.657997Z"
    },
    "papermill": {
     "duration": 0.038288,
     "end_time": "2020-12-01T02:08:48.658207",
     "exception": false,
     "start_time": "2020-12-01T02:08:48.619919",
     "status": "completed"
    },
    "tags": []
   },
   "outputs": [],
   "source": [
    "def custom_print(text):\n",
    "    now = datetime.datetime.now()\n",
    "    print('Dia {} - {}:{}:{} - {}'.format(now.day, now.hour-3, now.minute, now.second, text))"
   ]
  },
  {
   "cell_type": "code",
   "execution_count": 4,
   "metadata": {
    "execution": {
     "iopub.execute_input": "2020-12-01T02:08:48.726085Z",
     "iopub.status.busy": "2020-12-01T02:08:48.725009Z",
     "iopub.status.idle": "2020-12-01T02:08:49.212379Z",
     "shell.execute_reply": "2020-12-01T02:08:49.211322Z"
    },
    "papermill": {
     "duration": 0.529861,
     "end_time": "2020-12-01T02:08:49.212518",
     "exception": false,
     "start_time": "2020-12-01T02:08:48.682657",
     "status": "completed"
    },
    "tags": []
   },
   "outputs": [],
   "source": [
    "all_xray_df = pd.read_csv('/kaggle/input/all-xray-df-original/all_xray_df.csv')"
   ]
  },
  {
   "cell_type": "code",
   "execution_count": 5,
   "metadata": {
    "execution": {
     "iopub.execute_input": "2020-12-01T02:08:49.258732Z",
     "iopub.status.busy": "2020-12-01T02:08:49.257766Z",
     "iopub.status.idle": "2020-12-01T02:08:49.508845Z",
     "shell.execute_reply": "2020-12-01T02:08:49.508239Z"
    },
    "papermill": {
     "duration": 0.279214,
     "end_time": "2020-12-01T02:08:49.508951",
     "exception": false,
     "start_time": "2020-12-01T02:08:49.229737",
     "status": "completed"
    },
    "tags": []
   },
   "outputs": [],
   "source": [
    "all_xray_df['path'] = all_xray_df['path'].apply(lambda x: re.sub(r'/content/drive/My Drive/Colab Notebooks/ChestX-ray14/all_images_xray', '/kaggle/input/data', x))"
   ]
  },
  {
   "cell_type": "code",
   "execution_count": 6,
   "metadata": {
    "execution": {
     "iopub.execute_input": "2020-12-01T02:08:49.572482Z",
     "iopub.status.busy": "2020-12-01T02:08:49.557011Z",
     "iopub.status.idle": "2020-12-01T02:08:52.088817Z",
     "shell.execute_reply": "2020-12-01T02:08:52.087991Z"
    },
    "papermill": {
     "duration": 2.563251,
     "end_time": "2020-12-01T02:08:52.088966",
     "exception": false,
     "start_time": "2020-12-01T02:08:49.525715",
     "status": "completed"
    },
    "tags": []
   },
   "outputs": [],
   "source": [
    "# /kaggle/input/data/images_010/images/00022402_002.png\n",
    "# /content/drive/My Drive/Colab Notebooks/ChestX-ray14/all_images_xray/\n",
    "all_xray_df['path'] = all_xray_df['path'].apply(lambda x: re.sub(r'/images_001', '/images_001/images', x))\n",
    "all_xray_df['path'] = all_xray_df['path'].apply(lambda x: re.sub(r'/images_002', '/images_002/images', x))\n",
    "all_xray_df['path'] = all_xray_df['path'].apply(lambda x: re.sub(r'/images_003', '/images_003/images', x))\n",
    "all_xray_df['path'] = all_xray_df['path'].apply(lambda x: re.sub(r'/images_004', '/images_004/images', x))\n",
    "all_xray_df['path'] = all_xray_df['path'].apply(lambda x: re.sub(r'/images_005', '/images_005/images', x))\n",
    "all_xray_df['path'] = all_xray_df['path'].apply(lambda x: re.sub(r'/images_006', '/images_006/images', x))\n",
    "all_xray_df['path'] = all_xray_df['path'].apply(lambda x: re.sub(r'/images_007', '/images_007/images', x))\n",
    "all_xray_df['path'] = all_xray_df['path'].apply(lambda x: re.sub(r'/images_008', '/images_008/images', x))\n",
    "all_xray_df['path'] = all_xray_df['path'].apply(lambda x: re.sub(r'/images_009', '/images_009/images', x))\n",
    "all_xray_df['path'] = all_xray_df['path'].apply(lambda x: re.sub(r'/images_010', '/images_010/images', x))\n",
    "all_xray_df['path'] = all_xray_df['path'].apply(lambda x: re.sub(r'/images_011', '/images_011/images', x))\n",
    "all_xray_df['path'] = all_xray_df['path'].apply(lambda x: re.sub(r'/images_012', '/images_012/images', x))"
   ]
  },
  {
   "cell_type": "code",
   "execution_count": 7,
   "metadata": {
    "execution": {
     "iopub.execute_input": "2020-12-01T02:08:52.142046Z",
     "iopub.status.busy": "2020-12-01T02:08:52.131846Z",
     "iopub.status.idle": "2020-12-01T02:08:52.462093Z",
     "shell.execute_reply": "2020-12-01T02:08:52.462679Z"
    },
    "papermill": {
     "duration": 0.356348,
     "end_time": "2020-12-01T02:08:52.462829",
     "exception": false,
     "start_time": "2020-12-01T02:08:52.106481",
     "status": "completed"
    },
    "tags": []
   },
   "outputs": [
    {
     "name": "stdout",
     "output_type": "stream",
     "text": [
      "All Labels (14): ['Atelectasis', 'Cardiomegaly', 'Consolidation', 'Edema', 'Effusion', 'Emphysema', 'Fibrosis', 'Hernia', 'Infiltration', 'Mass', 'Nodule', 'Pleural_Thickening', 'Pneumonia', 'Pneumothorax']\n"
     ]
    }
   ],
   "source": [
    "# Substituir as labels com valor 'No Finding' em ''\n",
    "all_xray_df['Finding Labels'] = all_xray_df['Finding Labels'].map(lambda x: x.replace('No Finding', ''))\n",
    "from itertools import chain\n",
    "\n",
    "# Capturo apenas os valores únicos considerando os valores individuais de cada label separados entre si\n",
    "all_labels = np.unique(list(chain(*all_xray_df['Finding Labels'].map(lambda x: x.split('|')).tolist())))\n",
    "\n",
    "# atualizo a variável all_labels excluindo os valores vazios\n",
    "all_labels = [x for x in all_labels if len(x)>0]\n",
    "print('All Labels ({}): {}'.format(len(all_labels), all_labels))"
   ]
  },
  {
   "cell_type": "code",
   "execution_count": 8,
   "metadata": {
    "execution": {
     "iopub.execute_input": "2020-12-01T02:08:52.506213Z",
     "iopub.status.busy": "2020-12-01T02:08:52.505367Z",
     "iopub.status.idle": "2020-12-01T02:08:53.551238Z",
     "shell.execute_reply": "2020-12-01T02:08:53.550653Z"
    },
    "papermill": {
     "duration": 1.070218,
     "end_time": "2020-12-01T02:08:53.551380",
     "exception": false,
     "start_time": "2020-12-01T02:08:52.481162",
     "status": "completed"
    },
    "tags": []
   },
   "outputs": [],
   "source": [
    "# Crio as colunas adicionais ao df\n",
    "# cada coluna é uma doença descoberta no df all_labels\n",
    "# e para cada coluna, se o valor for 1 da respectiva linha, significa que aquele exemplo\n",
    "# tinha doença da respectiva coluna.\n",
    "for c_label in all_labels:\n",
    "    if len(c_label)>1: # deixar as labels \n",
    "        all_xray_df[c_label] = all_xray_df['Finding Labels'].map(lambda finding: 1.0 if c_label in finding else 0)\n",
    "\n",
    "all_xray_df_labels_detailed = all_xray_df[all_labels]"
   ]
  },
  {
   "cell_type": "code",
   "execution_count": 9,
   "metadata": {
    "execution": {
     "iopub.execute_input": "2020-12-01T02:08:53.593761Z",
     "iopub.status.busy": "2020-12-01T02:08:53.592820Z",
     "iopub.status.idle": "2020-12-01T02:09:58.952481Z",
     "shell.execute_reply": "2020-12-01T02:09:58.951894Z"
    },
    "papermill": {
     "duration": 65.383737,
     "end_time": "2020-12-01T02:09:58.952603",
     "exception": false,
     "start_time": "2020-12-01T02:08:53.568866",
     "status": "completed"
    },
    "tags": []
   },
   "outputs": [],
   "source": [
    "all_xray_df['disease_vector'] = all_xray_df.apply(lambda x: [x[all_labels].values], 1).map(lambda x: x[0])"
   ]
  },
  {
   "cell_type": "code",
   "execution_count": 10,
   "metadata": {
    "execution": {
     "iopub.execute_input": "2020-12-01T02:09:58.993632Z",
     "iopub.status.busy": "2020-12-01T02:09:58.992529Z",
     "iopub.status.idle": "2020-12-01T02:10:01.238744Z",
     "shell.execute_reply": "2020-12-01T02:10:01.237652Z"
    },
    "papermill": {
     "duration": 2.268869,
     "end_time": "2020-12-01T02:10:01.238912",
     "exception": false,
     "start_time": "2020-12-01T02:09:58.970043",
     "status": "completed"
    },
    "tags": []
   },
   "outputs": [],
   "source": [
    "all_xray_df['newLabel'] = all_xray_df.apply(lambda x: x['Finding Labels'].split('|'), axis=1)\n",
    "all_xray_df = all_xray_df[all_xray_df['Finding Labels'] != \"\"]"
   ]
  },
  {
   "cell_type": "code",
   "execution_count": 11,
   "metadata": {
    "execution": {
     "iopub.execute_input": "2020-12-01T02:10:01.282432Z",
     "iopub.status.busy": "2020-12-01T02:10:01.281805Z",
     "iopub.status.idle": "2020-12-01T02:10:06.924045Z",
     "shell.execute_reply": "2020-12-01T02:10:06.922797Z"
    },
    "papermill": {
     "duration": 5.666728,
     "end_time": "2020-12-01T02:10:06.924168",
     "exception": false,
     "start_time": "2020-12-01T02:10:01.257440",
     "status": "completed"
    },
    "tags": []
   },
   "outputs": [],
   "source": [
    "all_xray_df.to_csv('all_xray_df_path_kaggle.csv')"
   ]
  },
  {
   "cell_type": "code",
   "execution_count": 12,
   "metadata": {
    "execution": {
     "iopub.execute_input": "2020-12-01T02:10:06.975479Z",
     "iopub.status.busy": "2020-12-01T02:10:06.970347Z",
     "iopub.status.idle": "2020-12-01T02:10:07.132916Z",
     "shell.execute_reply": "2020-12-01T02:10:07.133740Z"
    },
    "papermill": {
     "duration": 0.191744,
     "end_time": "2020-12-01T02:10:07.133946",
     "exception": false,
     "start_time": "2020-12-01T02:10:06.942202",
     "status": "completed"
    },
    "tags": []
   },
   "outputs": [
    {
     "name": "stdout",
     "output_type": "stream",
     "text": [
      "train 38819 validation 12940\n"
     ]
    }
   ],
   "source": [
    "train_df, valid_df = train_test_split(all_xray_df, \n",
    "                                   test_size = 0.25,\n",
    "                                   random_state = 2018,\n",
    "                                   stratify = all_xray_df['Finding Labels'].map(lambda x: x[:4]))\n",
    "print('train', train_df.shape[0], 'validation', valid_df.shape[0])"
   ]
  },
  {
   "cell_type": "code",
   "execution_count": 13,
   "metadata": {
    "execution": {
     "iopub.execute_input": "2020-12-01T02:10:07.181008Z",
     "iopub.status.busy": "2020-12-01T02:10:07.180179Z",
     "iopub.status.idle": "2020-12-01T02:10:07.183478Z",
     "shell.execute_reply": "2020-12-01T02:10:07.182945Z"
    },
    "papermill": {
     "duration": 0.026629,
     "end_time": "2020-12-01T02:10:07.183582",
     "exception": false,
     "start_time": "2020-12-01T02:10:07.156953",
     "status": "completed"
    },
    "tags": []
   },
   "outputs": [],
   "source": [
    "IMG_SIZE = (250, 250)\n",
    "core_idg = ImageDataGenerator(samplewise_center=True, \n",
    "  samplewise_std_normalization=True, \n",
    "  horizontal_flip = True, \n",
    "  vertical_flip = False, \n",
    "  height_shift_range= 0.05, \n",
    "  width_shift_range=0.1, \n",
    "  rotation_range=5, \n",
    "  shear_range = 0.1,\n",
    "  fill_mode = 'reflect',\n",
    "  zoom_range=0.15\n",
    ")"
   ]
  },
  {
   "cell_type": "code",
   "execution_count": 14,
   "metadata": {
    "execution": {
     "iopub.execute_input": "2020-12-01T02:10:07.231355Z",
     "iopub.status.busy": "2020-12-01T02:10:07.230438Z",
     "iopub.status.idle": "2020-12-01T02:10:07.233687Z",
     "shell.execute_reply": "2020-12-01T02:10:07.233093Z"
    },
    "papermill": {
     "duration": 0.031137,
     "end_time": "2020-12-01T02:10:07.233804",
     "exception": false,
     "start_time": "2020-12-01T02:10:07.202667",
     "status": "completed"
    },
    "tags": []
   },
   "outputs": [],
   "source": [
    "def importar_imagens(train_df,valid_df):\n",
    "  train_gen = core_idg.flow_from_dataframe(dataframe=train_df, \n",
    "                              directory=None,\n",
    "                              x_col = 'path',\n",
    "                              y_col = 'newLabel', \n",
    "                              class_mode = 'categorical',\n",
    "                              classes = all_labels,\n",
    "                              target_size = IMG_SIZE,\n",
    "                              color_mode = 'grayscale',\n",
    "                              batch_size = 32,\n",
    "  )\n",
    "\n",
    "  valid_gen = core_idg.flow_from_dataframe(dataframe=valid_df, \n",
    "                              directory=None,\n",
    "                              x_col = 'path',\n",
    "                              y_col = 'newLabel', \n",
    "                              class_mode = 'categorical',\n",
    "                              classes = all_labels,\n",
    "                              target_size = IMG_SIZE,\n",
    "                              color_mode = 'grayscale',\n",
    "                              batch_size = 256,\n",
    "  )\n",
    "  test_X, test_Y = next(core_idg.flow_from_dataframe(dataframe=valid_df, \n",
    "                              directory=None,\n",
    "                              x_col = 'path',\n",
    "                              y_col = 'newLabel', \n",
    "                              class_mode = 'categorical',\n",
    "                              classes = all_labels,\n",
    "                              target_size = IMG_SIZE,\n",
    "                              color_mode = 'grayscale',\n",
    "                              batch_size = 1024,\n",
    "  ))\n",
    "\n",
    "  return train_gen, valid_gen, test_X, test_Y"
   ]
  },
  {
   "cell_type": "code",
   "execution_count": 15,
   "metadata": {
    "execution": {
     "iopub.execute_input": "2020-12-01T02:10:07.276434Z",
     "iopub.status.busy": "2020-12-01T02:10:07.275596Z",
     "iopub.status.idle": "2020-12-01T02:10:07.278019Z",
     "shell.execute_reply": "2020-12-01T02:10:07.278592Z"
    },
    "papermill": {
     "duration": 0.026728,
     "end_time": "2020-12-01T02:10:07.278709",
     "exception": false,
     "start_time": "2020-12-01T02:10:07.251981",
     "status": "completed"
    },
    "tags": []
   },
   "outputs": [],
   "source": [
    "def importar_imagens_treinamento_apenas(train_df):\n",
    "  train_gen = core_idg.flow_from_dataframe(dataframe=train_df, \n",
    "                              directory=None,\n",
    "                              x_col = 'path',\n",
    "                              y_col = 'newLabel', \n",
    "                              class_mode = 'categorical',\n",
    "                              classes = all_labels,\n",
    "                              target_size = IMG_SIZE,\n",
    "                              color_mode = 'grayscale',\n",
    "                              batch_size = 32,\n",
    "  )\n",
    "  return train_gen"
   ]
  },
  {
   "cell_type": "code",
   "execution_count": 16,
   "metadata": {
    "execution": {
     "iopub.execute_input": "2020-12-01T02:10:07.331302Z",
     "iopub.status.busy": "2020-12-01T02:10:07.323156Z",
     "iopub.status.idle": "2020-12-01T02:10:07.333691Z",
     "shell.execute_reply": "2020-12-01T02:10:07.334243Z"
    },
    "papermill": {
     "duration": 0.037021,
     "end_time": "2020-12-01T02:10:07.334384",
     "exception": false,
     "start_time": "2020-12-01T02:10:07.297363",
     "status": "completed"
    },
    "tags": []
   },
   "outputs": [],
   "source": [
    "# Funcao que aumenta amostra\n",
    "def upsampling(df, delta, rank_list, qtd_classes):\n",
    "    '''\n",
    "    df\n",
    "    df_fitrado_com_apenas_a_label = dataframe\n",
    "    delta do algoritmo de upsampling do artigo\n",
    "    rank_list = DataFrane com o rank com as labels do melhor AUC (primeiro) e pior AUC (último)\n",
    "    qtd_classes = inteiro\n",
    "    '''\n",
    "    try:\n",
    "        rank_list_upsampling = rank_list.sort_values(by=[1],ascending=False)\n",
    "    except:\n",
    "        rank_list_upsampling = rank_list.sort_values(by=['1'],ascending=False)\n",
    "\n",
    "    soma = 0\n",
    "    df_original = df.copy()\n",
    "    print(\"{:20} | {:9} | {:9} | {:9} | {:9} | {:9}\".format(\"label\",\"fator_k\", \"q_atualiz\", \"q_orig\", \"valor_cal\", \"qtd_final\"))\n",
    "    for i in range(qtd_classes):\n",
    "        df_fitrado_com_apenas_a_label_original = df_original[df_original[rank_list_upsampling[0].iloc[i]]==1]\n",
    "        df_fitrado_com_apenas_a_label_atualizado = df[df[rank_list_upsampling[0].iloc[i]]==1]\n",
    "    \n",
    "        pi_k = i+1\n",
    "        qtd = ((pi_k - 1)/(qtd_classes - 1))*(delta-1) + 1\n",
    "        qtd_atual_classe_original = df_fitrado_com_apenas_a_label_original.shape[0]\n",
    "        qtd_atual_classe_atualizado = df_fitrado_com_apenas_a_label_atualizado.shape[0]\n",
    "\n",
    "        diferenca = qtd_atual_classe_atualizado - qtd_atual_classe_original #Valor deveria ser maior ou igual a zero\n",
    "\n",
    "        # Se a diferença entre o valor resultante das atualizações com o valor original for maior\n",
    "        # que a o valor a ser adicionado pelo fator do artigo, então, não adiciono nada\n",
    "\n",
    "        if (diferenca > int((qtd - 1) * qtd_atual_classe_original)):\n",
    "            qtd_adicional = 0\n",
    "        else:\n",
    "            qtd_adicional = int((qtd - 1) * qtd_atual_classe_original) - diferenca\n",
    "\n",
    "        print(\"{:20} | {:9.2f} | {:9.2f} | {:9.2f} | {:9.2f} | {:9.2f}\".format(rank_list_upsampling[0].iloc[i], qtd, qtd_atual_classe_atualizado, qtd_atual_classe_original, int((qtd - 1) * qtd_atual_classe_atualizado), qtd_adicional))\n",
    "        df_upsampled = resample(\n",
    "            df_fitrado_com_apenas_a_label_atualizado,   # DataFrame com exemplos apenas daquela classe\n",
    "            replace=True,                               # sample with replacement\n",
    "            n_samples=qtd_adicional,                    # to match majority class\n",
    "            random_state=1                              # reproducible results\n",
    "        )\n",
    "        # Adiciono os exemplos gerados na nbase original\n",
    "        soma+=df_upsampled.shape[0]\n",
    "        df = df.append(df_upsampled)\n",
    "    return df"
   ]
  },
  {
   "cell_type": "code",
   "execution_count": 17,
   "metadata": {
    "execution": {
     "iopub.execute_input": "2020-12-01T02:10:07.378172Z",
     "iopub.status.busy": "2020-12-01T02:10:07.377299Z",
     "iopub.status.idle": "2020-12-01T02:10:07.379912Z",
     "shell.execute_reply": "2020-12-01T02:10:07.380468Z"
    },
    "papermill": {
     "duration": 0.027576,
     "end_time": "2020-12-01T02:10:07.380585",
     "exception": false,
     "start_time": "2020-12-01T02:10:07.353009",
     "status": "completed"
    },
    "tags": []
   },
   "outputs": [],
   "source": [
    "def VGG16_parameter(shape):\n",
    "    base_model = tf.keras.applications.VGG16(input_shape =  shape, \n",
    "                                  include_top = False,\n",
    "                                  weights=None,\n",
    "                                  )\n",
    "    base_model.trainable = False\n",
    "    multi_disease_model = Sequential()\n",
    "    multi_disease_model.add(base_model)\n",
    "    multi_disease_model.add(Flatten())\n",
    "    multi_disease_model.add(Dense(14,activation='sigmoid'))\n",
    "    multi_disease_model.compile(optimizer = 'adam', loss = 'binary_crossentropy',\n",
    "                            metrics = ['binary_accuracy', 'mae'])\n",
    "    return multi_disease_model"
   ]
  },
  {
   "cell_type": "code",
   "execution_count": 18,
   "metadata": {
    "execution": {
     "iopub.execute_input": "2020-12-01T02:10:07.425094Z",
     "iopub.status.busy": "2020-12-01T02:10:07.424188Z",
     "iopub.status.idle": "2020-12-01T02:10:51.457333Z",
     "shell.execute_reply": "2020-12-01T02:10:51.458046Z"
    },
    "papermill": {
     "duration": 44.058439,
     "end_time": "2020-12-01T02:10:51.458262",
     "exception": false,
     "start_time": "2020-12-01T02:10:07.399823",
     "status": "completed"
    },
    "tags": []
   },
   "outputs": [
    {
     "name": "stdout",
     "output_type": "stream",
     "text": [
      "Dia 1 - -1:10:7 - Carregamento Imagens: início\n",
      "Found 38819 validated image filenames belonging to 14 classes.\n",
      "Found 12940 validated image filenames belonging to 14 classes.\n",
      "Found 12940 validated image filenames belonging to 14 classes.\n",
      "Dia 1 - -1:10:51 - Carregamento Imagens: fim\n"
     ]
    }
   ],
   "source": [
    "# Baixar imagens\n",
    "custom_print('Carregamento Imagens: início')\n",
    "train_gen, valid_gen, test_X, test_Y = importar_imagens(train_df,valid_df)\n",
    "custom_print('Carregamento Imagens: fim')"
   ]
  },
  {
   "cell_type": "code",
   "execution_count": 19,
   "metadata": {
    "execution": {
     "iopub.execute_input": "2020-12-01T02:10:51.528765Z",
     "iopub.status.busy": "2020-12-01T02:10:51.526701Z",
     "iopub.status.idle": "2020-12-01T02:10:51.529552Z",
     "shell.execute_reply": "2020-12-01T02:10:51.530049Z"
    },
    "papermill": {
     "duration": 0.050517,
     "end_time": "2020-12-01T02:10:51.530174",
     "exception": false,
     "start_time": "2020-12-01T02:10:51.479657",
     "status": "completed"
    },
    "tags": []
   },
   "outputs": [],
   "source": [
    "'''\n",
    "Algoritmo inteiro numa função:\n",
    "1 - input: train_gen, valid_gen, test_X, test_Y,ciclos,epocas\n",
    "2 - output: modelo treinado depois de vários ciclos e épocas & último train_gen\n",
    "\n",
    "'''\n",
    "\n",
    "def rodar_todo_algoritmo(train_gen, valid_gen, test_X, test_Y, train_df, ciclos, epocas, versao_modelo, epoca_inicial = 0, path_modelo_rodado = None, ciclo=0):\n",
    "    if (path_modelo_rodado != None):\n",
    "        multi_disease_model = load_model(path_modelo_rodado)\n",
    "    else:\n",
    "        multi_disease_model = VGG16_parameter((250,250,1))\n",
    "    \n",
    "#     for ciclo in range(ciclos):\n",
    "    while (ciclo < ciclos):\n",
    "        print('##########################################')\n",
    "        print('##########################################')\n",
    "        custom_print('Ciclo {} iniciado'.format(ciclo))\n",
    "        nome_modelo_path = \"{}_ciclo_{}_epocas_{}_versao_modelo_VGG_16.hdf5\".format(ciclo,epocas,versao_modelo)\n",
    "        checkpoint = ModelCheckpoint(nome_modelo_path, monitor='val_loss', verbose=1, mode='min', save_best_only = True, save_weights_only = False)\n",
    "        early = EarlyStopping(monitor=\"val_loss\", mode=\"min\", patience=3)\n",
    "        callbacks_list = [checkpoint, early]\n",
    "        \n",
    "        custom_print('Treinamento iniciado')\n",
    "        if (ciclo == 0 & epoca_inicial > 0):            \n",
    "            multi_disease_model.fit_generator(train_gen,\n",
    "                                              steps_per_epoch = train_df.shape[0] //train_gen.batch_size,\n",
    "                                              validation_data =  valid_gen, \n",
    "                                              epochs = epocas, \n",
    "                                              callbacks = callbacks_list,\n",
    "                                              initial_epoch = epoca_inicial)\n",
    "        else:\n",
    "            multi_disease_model.fit_generator(train_gen,\n",
    "                                              steps_per_epoch = train_df.shape[0] //train_gen.batch_size,\n",
    "                                              validation_data =  valid_gen, \n",
    "                                              epochs = epocas, \n",
    "                                              callbacks = callbacks_list)\n",
    "            \n",
    "        custom_print('Treinamento terminado')\n",
    "\n",
    "        # preve com a base de testes e gera a curva ROC\n",
    "        pred_Y = multi_disease_model.predict(test_X, batch_size = 32, verbose = True)\n",
    "\n",
    "        fig, c_ax = plt.subplots(1,1, figsize = (9, 9))\n",
    "        rank_list = []\n",
    "        for (idx, c_label) in enumerate(all_labels):\n",
    "            fpr, tpr, thresholds = roc_curve(test_Y[:,idx].astype(int), pred_Y[:,idx])\n",
    "            c_ax.plot(fpr, tpr, label = '%s (AUC:%0.2f)'  % (c_label, auc(fpr, tpr)))\n",
    "            rank_list.append([c_label,auc(fpr, tpr)])\n",
    "        rank_list = pd.DataFrame(rank_list)\n",
    "        c_ax.legend()\n",
    "        c_ax.set_xlabel('False Positive Rate')\n",
    "        c_ax.set_ylabel('True Positive Rate')\n",
    "        fig.savefig('trained_net.png')\n",
    "        \n",
    "        path_rank_list = '{}_ciclo_{}_epocas_rank_list_VGG_16.csv'.format(ciclo,epocas)\n",
    "        rank_list.to_csv(path_rank_list)\n",
    "        \n",
    "        # upsampling da base de treinamento para depois testar com X epocas novamente\n",
    "        train_df = upsampling(train_df,2,rank_list,14)\n",
    "        \n",
    "        # misturo os dados\n",
    "        train_df = train_df.sample(frac=1,random_state=1).reset_index(drop=True)\n",
    "        \n",
    "        train_df.shape\n",
    "\n",
    "        path_rank_list = '{}_ciclo_{}_epocas_rank_list_VGG_16.csv'.format(ciclo,epocas)\n",
    "        rank_list.to_csv(path_rank_list)\n",
    "\n",
    "        # Baixar imagens após primeiro upsampling e depois de 5 épocas\n",
    "        custom_print('Carregamento Imagens: início')\n",
    "        train_gen = importar_imagens_treinamento_apenas(train_df)\n",
    "        custom_print('Carregamento Imagens: fim')\n",
    "        ciclo+=1\n",
    "    return multi_disease_model, train_gen"
   ]
  },
  {
   "cell_type": "code",
   "execution_count": 20,
   "metadata": {
    "execution": {
     "iopub.execute_input": "2020-12-01T02:10:51.579795Z",
     "iopub.status.busy": "2020-12-01T02:10:51.578998Z",
     "iopub.status.idle": "2020-12-01T02:10:51.586384Z",
     "shell.execute_reply": "2020-12-01T02:10:51.585802Z"
    },
    "papermill": {
     "duration": 0.035536,
     "end_time": "2020-12-01T02:10:51.586487",
     "exception": false,
     "start_time": "2020-12-01T02:10:51.550951",
     "status": "completed"
    },
    "tags": []
   },
   "outputs": [],
   "source": [
    "# Caso eu tenha os modelos .hdf5 salvos, porém, o Kaggle interrompeu a sessão do notebook\n",
    "# Preciso dar commit manualmente no notebook apertando o botão Save Version acima/direita\n",
    "def recuperar_train_gen_para_continuar_ciclo(ciclo,epocas,versao_modelo,train_df):\n",
    "    for i in range(ciclo):\n",
    "        nome_modelo_path = \"/kaggle/input/modelos-de-5-epocas-2-ciclos/{}_ciclo_{}_epocas_{}_versao_modelo_VGG_16.hdf5\".format(i,epocas,versao_modelo)\n",
    "        multi_disease_model = load_model(nome_modelo_path)\n",
    "\n",
    "        # preve com a base de testes e gera a curva ROC\n",
    "        pred_Y = multi_disease_model.predict(test_X, batch_size = 32, verbose = True)\n",
    "\n",
    "        rank_list = []\n",
    "        for (idx, c_label) in enumerate(all_labels):\n",
    "            fpr, tpr, thresholds = roc_curve(test_Y[:,idx].astype(int), pred_Y[:,idx])\n",
    "            rank_list.append([c_label,auc(fpr, tpr)])\n",
    "        rank_list = pd.DataFrame(rank_list)\n",
    "        train_df = upsampling(train_df,2,rank_list,14)\n",
    "        # misturo os dados\n",
    "        train_df = train_df.sample(frac=1,random_state=1).reset_index(drop=True)        \n",
    "    # Baixar imagens após primeiro upsampling e depois de 5 épocas\n",
    "    custom_print('Carregamento Imagens: início')\n",
    "    train_gen = importar_imagens_treinamento_apenas(train_df)\n",
    "    custom_print('Carregamento Imagens: fim')\n",
    "    return train_gen, train_df"
   ]
  },
  {
   "cell_type": "code",
   "execution_count": 21,
   "metadata": {
    "execution": {
     "iopub.execute_input": "2020-12-01T02:10:51.637905Z",
     "iopub.status.busy": "2020-12-01T02:10:51.637174Z",
     "iopub.status.idle": "2020-12-01T04:09:21.465375Z",
     "shell.execute_reply": "2020-12-01T04:09:21.465952Z"
    },
    "papermill": {
     "duration": 7109.858302,
     "end_time": "2020-12-01T04:09:21.466137",
     "exception": false,
     "start_time": "2020-12-01T02:10:51.607835",
     "status": "completed"
    },
    "tags": []
   },
   "outputs": [
    {
     "name": "stdout",
     "output_type": "stream",
     "text": [
      "##########################################\n",
      "##########################################\n",
      "Dia 1 - -1:10:54 - Ciclo 0 iniciado\n",
      "Dia 1 - -1:10:54 - Treinamento iniciado\n",
      "Epoch 1/5\n",
      "1213/1213 [==============================] - ETA: 0s - loss: 0.3154 - binary_accuracy: 0.8876 - mae: 0.1937\n",
      "Epoch 00001: val_loss improved from inf to 0.30166, saving model to 0_ciclo_5_epocas_1_versao_modelo_VGG_16.hdf5\n",
      "1213/1213 [==============================] - 1353s 1s/step - loss: 0.3154 - binary_accuracy: 0.8876 - mae: 0.1937 - val_loss: 0.3017 - val_binary_accuracy: 0.8881 - val_mae: 0.1762\n",
      "Epoch 2/5\n",
      "1213/1213 [==============================] - ETA: 0s - loss: 0.3005 - binary_accuracy: 0.8879 - mae: 0.1769\n",
      "Epoch 00002: val_loss improved from 0.30166 to 0.29983, saving model to 0_ciclo_5_epocas_1_versao_modelo_VGG_16.hdf5\n",
      "1213/1213 [==============================] - 1422s 1s/step - loss: 0.3005 - binary_accuracy: 0.8879 - mae: 0.1769 - val_loss: 0.2998 - val_binary_accuracy: 0.8883 - val_mae: 0.1762\n",
      "Epoch 3/5\n",
      "1213/1213 [==============================] - ETA: 0s - loss: 0.2988 - binary_accuracy: 0.8880 - mae: 0.1762\n",
      "Epoch 00003: val_loss improved from 0.29983 to 0.29822, saving model to 0_ciclo_5_epocas_1_versao_modelo_VGG_16.hdf5\n",
      "1213/1213 [==============================] - 1471s 1s/step - loss: 0.2988 - binary_accuracy: 0.8880 - mae: 0.1762 - val_loss: 0.2982 - val_binary_accuracy: 0.8882 - val_mae: 0.1760\n",
      "Epoch 4/5\n",
      "1213/1213 [==============================] - ETA: 0s - loss: 0.2977 - binary_accuracy: 0.8880 - mae: 0.1756\n",
      "Epoch 00004: val_loss improved from 0.29822 to 0.29737, saving model to 0_ciclo_5_epocas_1_versao_modelo_VGG_16.hdf5\n",
      "1213/1213 [==============================] - 1415s 1s/step - loss: 0.2977 - binary_accuracy: 0.8880 - mae: 0.1756 - val_loss: 0.2974 - val_binary_accuracy: 0.8883 - val_mae: 0.1777\n",
      "Epoch 5/5\n",
      "1213/1213 [==============================] - ETA: 0s - loss: 0.2969 - binary_accuracy: 0.8881 - mae: 0.1753\n",
      "Epoch 00005: val_loss improved from 0.29737 to 0.29689, saving model to 0_ciclo_5_epocas_1_versao_modelo_VGG_16.hdf5\n",
      "1213/1213 [==============================] - 1415s 1s/step - loss: 0.2969 - binary_accuracy: 0.8881 - mae: 0.1753 - val_loss: 0.2969 - val_binary_accuracy: 0.8883 - val_mae: 0.1733\n",
      "Dia 1 - 1:9:1 - Treinamento terminado\n",
      "32/32 [==============================] - 3s 79ms/step\n",
      "label                | fator_k   | q_atualiz | q_orig    | valor_cal | qtd_final\n",
      "Edema                |      1.00 |   1720.00 |   1720.00 |      0.00 |      0.00\n",
      "Fibrosis             |      1.08 |   1284.00 |   1284.00 |     98.00 |     98.00\n",
      "Effusion             |      1.15 |  10001.00 |   9991.00 |   1538.00 |   1527.00\n",
      "Consolidation        |      1.23 |   3653.00 |   3518.00 |    843.00 |    676.00\n",
      "Mass                 |      1.31 |   4600.00 |   4343.00 |   1415.00 |   1079.00\n",
      "Hernia               |      1.38 |    178.00 |    171.00 |     68.00 |     58.00\n",
      "Atelectasis          |      1.46 |   9410.00 |   8667.00 |   4343.00 |   3257.00\n",
      "Cardiomegaly         |      1.54 |   2370.00 |   2084.00 |   1276.00 |    836.00\n",
      "Nodule               |      1.62 |   5308.00 |   4735.00 |   3266.00 |   2340.00\n",
      "Infiltration         |      1.69 |  17694.00 |  14968.00 |  12249.00 |   7636.00\n",
      "Pneumonia            |      1.77 |   1454.00 |   1059.00 |   1118.00 |    419.00\n",
      "Pneumothorax         |      1.85 |   4938.00 |   3965.00 |   4178.00 |   2382.00\n",
      "Pleural_Thickening   |      1.92 |   3616.00 |   2534.00 |   3337.00 |   1257.00\n",
      "Emphysema            |      2.00 |   2743.00 |   1870.00 |   2743.00 |    997.00\n",
      "Dia 1 - 1:9:6 - Carregamento Imagens: início\n",
      "Found 61381 validated image filenames belonging to 14 classes.\n",
      "Dia 1 - 1:9:21 - Carregamento Imagens: fim\n"
     ]
    },
    {
     "data": {
      "image/png": "[encoded data removed]",
      "text/plain": [
       "<Figure size 648x648 with 1 Axes>"
      ]
     },
     "metadata": {
      "needs_background": "light"
     },
     "output_type": "display_data"
    }
   ],
   "source": [
    "multi_disease_model_novo , train_gen_novo = rodar_todo_algoritmo(train_gen, valid_gen, test_X, test_Y, train_df, ciclos=1,epocas=5,versao_modelo=1)"
   ]
  }
 ],
 "metadata": {
  "kernelspec": {
   "display_name": "Python 3",
   "language": "python",
   "name": "python3"
  },
  "language_info": {
   "codemirror_mode": {
    "name": "ipython",
    "version": 3
   },
   "file_extension": ".py",
   "mimetype": "text/x-python",
   "name": "python",
   "nbconvert_exporter": "python",
   "pygments_lexer": "ipython3",
   "version": "3.7.6"
  },
  "papermill": {
   "duration": 7248.714194,
   "end_time": "2020-12-01T04:09:25.778139",
   "environment_variables": {},
   "exception": null,
   "input_path": "__notebook__.ipynb",
   "output_path": "__notebook__.ipynb",
   "parameters": {},
   "start_time": "2020-12-01T02:08:37.063945",
   "version": "2.1.0"
  }
 },
 "nbformat": 4,
 "nbformat_minor": 4
}
